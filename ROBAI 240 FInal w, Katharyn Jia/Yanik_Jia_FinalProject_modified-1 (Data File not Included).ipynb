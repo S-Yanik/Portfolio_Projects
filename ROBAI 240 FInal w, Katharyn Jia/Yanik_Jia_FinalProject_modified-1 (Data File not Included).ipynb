{
 "cells": [
  {
   "cell_type": "markdown",
   "metadata": {},
   "source": [
    "# ROBAI 240 Final Project\n",
    "  \n",
    "### Sean Yanik, Katharyn Jia"
   ]
  },
  {
   "cell_type": "code",
   "execution_count": 1,
   "metadata": {},
   "outputs": [],
   "source": [
    "#dependencies\n",
    "import numpy as np\n",
    "import pandas as pd\n",
    "import matplotlib.pyplot as plt\n",
    "import matplotlib as mpl\n",
    "import random\n",
    "import seaborn as sns\n",
    "%matplotlib inline"
   ]
  },
  {
   "cell_type": "code",
   "execution_count": 2,
   "metadata": {},
   "outputs": [],
   "source": [
    "rstate=16"
   ]
  },
  {
   "cell_type": "markdown",
   "metadata": {},
   "source": [
    "For our dataset, we chose to look at Myocardial Infarction Data  \n",
    "This set contains 1700 instances on 124 parameters.   \n",
    "By modeling this dataset, we hope to generate a predictor to classify patient lethality based on medical history, disease charateristics, and patient care in hospital.  \n",
    "\n",
    "Being able to predict if a patient is at a higher risk for death can help families prepare for the worst, but can also help medical professionals make more informed decisions regarding the distribution of resources and staff. At-risk patients can be prioritized. Skilled medical professionals or complication-specified medical equipment can be readied and brought out ahead of time and predictively, rather than reactively, in respones to an incident occurring. \n",
    "\n",
    "Improved versions of this tech could be used not only to predict high-risk patients ahead of time, and prepare resources for them, but to help families and patients make more informed decisions around extremely expensive late-game treatments. If a patient is extremely likely to die, they might choose to forgo an extremely costly last-minute surgeries with low chances of success (which could generate great quantities of debt), and instead spend their last moments with their family. Such decisions are of course incredibly difficult to make, but a little more time with a loved one, and a chance to say goodbye, can be worth everything in the world."
   ]
  },
  {
   "cell_type": "code",
   "execution_count": 3,
   "metadata": {},
   "outputs": [
    {
     "data": {
      "text/plain": [
       "(1700, 124)"
      ]
     },
     "execution_count": 3,
     "metadata": {},
     "output_type": "execute_result"
    }
   ],
   "source": [
    "#import raw data from local file\n",
    "# This file must be present to run! (file = MI_Data.csv)\n",
    "rawData = pd.read_csv(\"MI_Data.csv\",na_values='?')\n",
    "#drop if we have any duplicates. since column 0 is the unique patient identifier\n",
    "rawData.drop_duplicates(inplace=True)\n",
    "rawData.shape"
   ]
  },
  {
   "cell_type": "code",
   "execution_count": 4,
   "metadata": {},
   "outputs": [
    {
     "data": {
      "text/html": [
       "<div>\n",
       "<style scoped>\n",
       "    .dataframe tbody tr th:only-of-type {\n",
       "        vertical-align: middle;\n",
       "    }\n",
       "\n",
       "    .dataframe tbody tr th {\n",
       "        vertical-align: top;\n",
       "    }\n",
       "\n",
       "    .dataframe thead th {\n",
       "        text-align: right;\n",
       "    }\n",
       "</style>\n",
       "<table border=\"1\" class=\"dataframe\">\n",
       "  <thead>\n",
       "    <tr style=\"text-align: right;\">\n",
       "      <th></th>\n",
       "      <th>ID</th>\n",
       "      <th>AGE</th>\n",
       "      <th>SEX</th>\n",
       "      <th>INF_ANAM</th>\n",
       "      <th>STENOK_AN</th>\n",
       "      <th>FK_STENOK</th>\n",
       "      <th>IBS_POST</th>\n",
       "      <th>IBS_NASL</th>\n",
       "      <th>GB</th>\n",
       "      <th>SIM_GIPERT</th>\n",
       "      <th>...</th>\n",
       "      <th>JELUD_TAH</th>\n",
       "      <th>FIBR_JELUD</th>\n",
       "      <th>A_V_BLOK</th>\n",
       "      <th>OTEK_LANC</th>\n",
       "      <th>RAZRIV</th>\n",
       "      <th>DRESSLER</th>\n",
       "      <th>ZSN</th>\n",
       "      <th>REC_IM</th>\n",
       "      <th>P_IM_STEN</th>\n",
       "      <th>LET_IS</th>\n",
       "    </tr>\n",
       "  </thead>\n",
       "  <tbody>\n",
       "    <tr>\n",
       "      <th>count</th>\n",
       "      <td>1700.000000</td>\n",
       "      <td>1692.000000</td>\n",
       "      <td>1700.000000</td>\n",
       "      <td>1696.000000</td>\n",
       "      <td>1594.000000</td>\n",
       "      <td>1627.000000</td>\n",
       "      <td>1649.000000</td>\n",
       "      <td>72.00000</td>\n",
       "      <td>1691.000000</td>\n",
       "      <td>1692.000000</td>\n",
       "      <td>...</td>\n",
       "      <td>1700.000000</td>\n",
       "      <td>1700.000000</td>\n",
       "      <td>1700.000000</td>\n",
       "      <td>1700.000000</td>\n",
       "      <td>1700.000000</td>\n",
       "      <td>1700.000000</td>\n",
       "      <td>1700.000000</td>\n",
       "      <td>1700.000000</td>\n",
       "      <td>1700.000000</td>\n",
       "      <td>1700.000000</td>\n",
       "    </tr>\n",
       "    <tr>\n",
       "      <th>mean</th>\n",
       "      <td>850.500000</td>\n",
       "      <td>61.856974</td>\n",
       "      <td>0.626471</td>\n",
       "      <td>0.554835</td>\n",
       "      <td>2.316186</td>\n",
       "      <td>1.205286</td>\n",
       "      <td>1.160703</td>\n",
       "      <td>0.37500</td>\n",
       "      <td>1.393258</td>\n",
       "      <td>0.033688</td>\n",
       "      <td>...</td>\n",
       "      <td>0.024706</td>\n",
       "      <td>0.041765</td>\n",
       "      <td>0.033529</td>\n",
       "      <td>0.093529</td>\n",
       "      <td>0.031765</td>\n",
       "      <td>0.044118</td>\n",
       "      <td>0.231765</td>\n",
       "      <td>0.093529</td>\n",
       "      <td>0.087059</td>\n",
       "      <td>0.477059</td>\n",
       "    </tr>\n",
       "    <tr>\n",
       "      <th>std</th>\n",
       "      <td>490.892045</td>\n",
       "      <td>11.259936</td>\n",
       "      <td>0.483883</td>\n",
       "      <td>0.836801</td>\n",
       "      <td>2.440586</td>\n",
       "      <td>1.040814</td>\n",
       "      <td>0.801400</td>\n",
       "      <td>0.48752</td>\n",
       "      <td>1.088803</td>\n",
       "      <td>0.180478</td>\n",
       "      <td>...</td>\n",
       "      <td>0.155273</td>\n",
       "      <td>0.200110</td>\n",
       "      <td>0.180067</td>\n",
       "      <td>0.291259</td>\n",
       "      <td>0.175425</td>\n",
       "      <td>0.205417</td>\n",
       "      <td>0.422084</td>\n",
       "      <td>0.291259</td>\n",
       "      <td>0.282004</td>\n",
       "      <td>1.381818</td>\n",
       "    </tr>\n",
       "    <tr>\n",
       "      <th>min</th>\n",
       "      <td>1.000000</td>\n",
       "      <td>26.000000</td>\n",
       "      <td>0.000000</td>\n",
       "      <td>0.000000</td>\n",
       "      <td>0.000000</td>\n",
       "      <td>0.000000</td>\n",
       "      <td>0.000000</td>\n",
       "      <td>0.00000</td>\n",
       "      <td>0.000000</td>\n",
       "      <td>0.000000</td>\n",
       "      <td>...</td>\n",
       "      <td>0.000000</td>\n",
       "      <td>0.000000</td>\n",
       "      <td>0.000000</td>\n",
       "      <td>0.000000</td>\n",
       "      <td>0.000000</td>\n",
       "      <td>0.000000</td>\n",
       "      <td>0.000000</td>\n",
       "      <td>0.000000</td>\n",
       "      <td>0.000000</td>\n",
       "      <td>0.000000</td>\n",
       "    </tr>\n",
       "    <tr>\n",
       "      <th>25%</th>\n",
       "      <td>425.750000</td>\n",
       "      <td>54.000000</td>\n",
       "      <td>0.000000</td>\n",
       "      <td>0.000000</td>\n",
       "      <td>0.000000</td>\n",
       "      <td>0.000000</td>\n",
       "      <td>0.000000</td>\n",
       "      <td>0.00000</td>\n",
       "      <td>0.000000</td>\n",
       "      <td>0.000000</td>\n",
       "      <td>...</td>\n",
       "      <td>0.000000</td>\n",
       "      <td>0.000000</td>\n",
       "      <td>0.000000</td>\n",
       "      <td>0.000000</td>\n",
       "      <td>0.000000</td>\n",
       "      <td>0.000000</td>\n",
       "      <td>0.000000</td>\n",
       "      <td>0.000000</td>\n",
       "      <td>0.000000</td>\n",
       "      <td>0.000000</td>\n",
       "    </tr>\n",
       "    <tr>\n",
       "      <th>50%</th>\n",
       "      <td>850.500000</td>\n",
       "      <td>63.000000</td>\n",
       "      <td>1.000000</td>\n",
       "      <td>0.000000</td>\n",
       "      <td>1.000000</td>\n",
       "      <td>2.000000</td>\n",
       "      <td>1.000000</td>\n",
       "      <td>0.00000</td>\n",
       "      <td>2.000000</td>\n",
       "      <td>0.000000</td>\n",
       "      <td>...</td>\n",
       "      <td>0.000000</td>\n",
       "      <td>0.000000</td>\n",
       "      <td>0.000000</td>\n",
       "      <td>0.000000</td>\n",
       "      <td>0.000000</td>\n",
       "      <td>0.000000</td>\n",
       "      <td>0.000000</td>\n",
       "      <td>0.000000</td>\n",
       "      <td>0.000000</td>\n",
       "      <td>0.000000</td>\n",
       "    </tr>\n",
       "    <tr>\n",
       "      <th>75%</th>\n",
       "      <td>1275.250000</td>\n",
       "      <td>70.000000</td>\n",
       "      <td>1.000000</td>\n",
       "      <td>1.000000</td>\n",
       "      <td>5.000000</td>\n",
       "      <td>2.000000</td>\n",
       "      <td>2.000000</td>\n",
       "      <td>1.00000</td>\n",
       "      <td>2.000000</td>\n",
       "      <td>0.000000</td>\n",
       "      <td>...</td>\n",
       "      <td>0.000000</td>\n",
       "      <td>0.000000</td>\n",
       "      <td>0.000000</td>\n",
       "      <td>0.000000</td>\n",
       "      <td>0.000000</td>\n",
       "      <td>0.000000</td>\n",
       "      <td>0.000000</td>\n",
       "      <td>0.000000</td>\n",
       "      <td>0.000000</td>\n",
       "      <td>0.000000</td>\n",
       "    </tr>\n",
       "    <tr>\n",
       "      <th>max</th>\n",
       "      <td>1700.000000</td>\n",
       "      <td>92.000000</td>\n",
       "      <td>1.000000</td>\n",
       "      <td>3.000000</td>\n",
       "      <td>6.000000</td>\n",
       "      <td>4.000000</td>\n",
       "      <td>2.000000</td>\n",
       "      <td>1.00000</td>\n",
       "      <td>3.000000</td>\n",
       "      <td>1.000000</td>\n",
       "      <td>...</td>\n",
       "      <td>1.000000</td>\n",
       "      <td>1.000000</td>\n",
       "      <td>1.000000</td>\n",
       "      <td>1.000000</td>\n",
       "      <td>1.000000</td>\n",
       "      <td>1.000000</td>\n",
       "      <td>1.000000</td>\n",
       "      <td>1.000000</td>\n",
       "      <td>1.000000</td>\n",
       "      <td>7.000000</td>\n",
       "    </tr>\n",
       "  </tbody>\n",
       "</table>\n",
       "<p>8 rows × 124 columns</p>\n",
       "</div>"
      ],
      "text/plain": [
       "                ID          AGE          SEX     INF_ANAM    STENOK_AN  \\\n",
       "count  1700.000000  1692.000000  1700.000000  1696.000000  1594.000000   \n",
       "mean    850.500000    61.856974     0.626471     0.554835     2.316186   \n",
       "std     490.892045    11.259936     0.483883     0.836801     2.440586   \n",
       "min       1.000000    26.000000     0.000000     0.000000     0.000000   \n",
       "25%     425.750000    54.000000     0.000000     0.000000     0.000000   \n",
       "50%     850.500000    63.000000     1.000000     0.000000     1.000000   \n",
       "75%    1275.250000    70.000000     1.000000     1.000000     5.000000   \n",
       "max    1700.000000    92.000000     1.000000     3.000000     6.000000   \n",
       "\n",
       "         FK_STENOK     IBS_POST  IBS_NASL           GB   SIM_GIPERT  ...  \\\n",
       "count  1627.000000  1649.000000  72.00000  1691.000000  1692.000000  ...   \n",
       "mean      1.205286     1.160703   0.37500     1.393258     0.033688  ...   \n",
       "std       1.040814     0.801400   0.48752     1.088803     0.180478  ...   \n",
       "min       0.000000     0.000000   0.00000     0.000000     0.000000  ...   \n",
       "25%       0.000000     0.000000   0.00000     0.000000     0.000000  ...   \n",
       "50%       2.000000     1.000000   0.00000     2.000000     0.000000  ...   \n",
       "75%       2.000000     2.000000   1.00000     2.000000     0.000000  ...   \n",
       "max       4.000000     2.000000   1.00000     3.000000     1.000000  ...   \n",
       "\n",
       "         JELUD_TAH   FIBR_JELUD     A_V_BLOK    OTEK_LANC       RAZRIV  \\\n",
       "count  1700.000000  1700.000000  1700.000000  1700.000000  1700.000000   \n",
       "mean      0.024706     0.041765     0.033529     0.093529     0.031765   \n",
       "std       0.155273     0.200110     0.180067     0.291259     0.175425   \n",
       "min       0.000000     0.000000     0.000000     0.000000     0.000000   \n",
       "25%       0.000000     0.000000     0.000000     0.000000     0.000000   \n",
       "50%       0.000000     0.000000     0.000000     0.000000     0.000000   \n",
       "75%       0.000000     0.000000     0.000000     0.000000     0.000000   \n",
       "max       1.000000     1.000000     1.000000     1.000000     1.000000   \n",
       "\n",
       "          DRESSLER          ZSN       REC_IM    P_IM_STEN       LET_IS  \n",
       "count  1700.000000  1700.000000  1700.000000  1700.000000  1700.000000  \n",
       "mean      0.044118     0.231765     0.093529     0.087059     0.477059  \n",
       "std       0.205417     0.422084     0.291259     0.282004     1.381818  \n",
       "min       0.000000     0.000000     0.000000     0.000000     0.000000  \n",
       "25%       0.000000     0.000000     0.000000     0.000000     0.000000  \n",
       "50%       0.000000     0.000000     0.000000     0.000000     0.000000  \n",
       "75%       0.000000     0.000000     0.000000     0.000000     0.000000  \n",
       "max       1.000000     1.000000     1.000000     1.000000     7.000000  \n",
       "\n",
       "[8 rows x 124 columns]"
      ]
     },
     "execution_count": 4,
     "metadata": {},
     "output_type": "execute_result"
    }
   ],
   "source": [
    "rawData.describe()"
   ]
  },
  {
   "cell_type": "markdown",
   "metadata": {},
   "source": [
    "This dataset does not have a single target row for patients that lived vs. patients that died.\n",
    "\n",
    "Instead, it contains columns for different causes of death/complications. We will seperate those columns, and do more with them later."
   ]
  },
  {
   "cell_type": "code",
   "execution_count": 5,
   "metadata": {},
   "outputs": [
    {
     "data": {
      "text/html": [
       "<div>\n",
       "<style scoped>\n",
       "    .dataframe tbody tr th:only-of-type {\n",
       "        vertical-align: middle;\n",
       "    }\n",
       "\n",
       "    .dataframe tbody tr th {\n",
       "        vertical-align: top;\n",
       "    }\n",
       "\n",
       "    .dataframe thead th {\n",
       "        text-align: right;\n",
       "    }\n",
       "</style>\n",
       "<table border=\"1\" class=\"dataframe\">\n",
       "  <thead>\n",
       "    <tr style=\"text-align: right;\">\n",
       "      <th></th>\n",
       "      <th>FIBR_PREDS</th>\n",
       "      <th>PREDS_TAH</th>\n",
       "      <th>JELUD_TAH</th>\n",
       "      <th>FIBR_JELUD</th>\n",
       "      <th>A_V_BLOK</th>\n",
       "      <th>OTEK_LANC</th>\n",
       "      <th>RAZRIV</th>\n",
       "      <th>DRESSLER</th>\n",
       "      <th>ZSN</th>\n",
       "      <th>REC_IM</th>\n",
       "      <th>P_IM_STEN</th>\n",
       "      <th>LET_IS</th>\n",
       "    </tr>\n",
       "  </thead>\n",
       "  <tbody>\n",
       "    <tr>\n",
       "      <th>0</th>\n",
       "      <td>0</td>\n",
       "      <td>0</td>\n",
       "      <td>0</td>\n",
       "      <td>0</td>\n",
       "      <td>0</td>\n",
       "      <td>0</td>\n",
       "      <td>0</td>\n",
       "      <td>0</td>\n",
       "      <td>0</td>\n",
       "      <td>0</td>\n",
       "      <td>0</td>\n",
       "      <td>0</td>\n",
       "    </tr>\n",
       "    <tr>\n",
       "      <th>1</th>\n",
       "      <td>0</td>\n",
       "      <td>0</td>\n",
       "      <td>0</td>\n",
       "      <td>0</td>\n",
       "      <td>0</td>\n",
       "      <td>0</td>\n",
       "      <td>0</td>\n",
       "      <td>0</td>\n",
       "      <td>0</td>\n",
       "      <td>0</td>\n",
       "      <td>0</td>\n",
       "      <td>0</td>\n",
       "    </tr>\n",
       "    <tr>\n",
       "      <th>2</th>\n",
       "      <td>0</td>\n",
       "      <td>0</td>\n",
       "      <td>0</td>\n",
       "      <td>0</td>\n",
       "      <td>0</td>\n",
       "      <td>0</td>\n",
       "      <td>0</td>\n",
       "      <td>0</td>\n",
       "      <td>0</td>\n",
       "      <td>0</td>\n",
       "      <td>0</td>\n",
       "      <td>0</td>\n",
       "    </tr>\n",
       "    <tr>\n",
       "      <th>3</th>\n",
       "      <td>0</td>\n",
       "      <td>0</td>\n",
       "      <td>0</td>\n",
       "      <td>0</td>\n",
       "      <td>0</td>\n",
       "      <td>0</td>\n",
       "      <td>0</td>\n",
       "      <td>0</td>\n",
       "      <td>1</td>\n",
       "      <td>0</td>\n",
       "      <td>0</td>\n",
       "      <td>0</td>\n",
       "    </tr>\n",
       "    <tr>\n",
       "      <th>4</th>\n",
       "      <td>0</td>\n",
       "      <td>0</td>\n",
       "      <td>0</td>\n",
       "      <td>0</td>\n",
       "      <td>0</td>\n",
       "      <td>0</td>\n",
       "      <td>0</td>\n",
       "      <td>0</td>\n",
       "      <td>0</td>\n",
       "      <td>0</td>\n",
       "      <td>0</td>\n",
       "      <td>0</td>\n",
       "    </tr>\n",
       "  </tbody>\n",
       "</table>\n",
       "</div>"
      ],
      "text/plain": [
       "   FIBR_PREDS  PREDS_TAH  JELUD_TAH  FIBR_JELUD  A_V_BLOK  OTEK_LANC  RAZRIV  \\\n",
       "0           0          0          0           0         0          0       0   \n",
       "1           0          0          0           0         0          0       0   \n",
       "2           0          0          0           0         0          0       0   \n",
       "3           0          0          0           0         0          0       0   \n",
       "4           0          0          0           0         0          0       0   \n",
       "\n",
       "   DRESSLER  ZSN  REC_IM  P_IM_STEN  LET_IS  \n",
       "0         0    0       0          0       0  \n",
       "1         0    0       0          0       0  \n",
       "2         0    0       0          0       0  \n",
       "3         0    1       0          0       0  \n",
       "4         0    0       0          0       0  "
      ]
     },
     "execution_count": 5,
     "metadata": {},
     "output_type": "execute_result"
    }
   ],
   "source": [
    "#create a seperate Target set\n",
    "target = rawData.iloc[:,112:124]\n",
    "target.head()"
   ]
  },
  {
   "cell_type": "code",
   "execution_count": 6,
   "metadata": {},
   "outputs": [
    {
     "data": {
      "text/plain": [
       "FIBR_PREDS    0\n",
       "PREDS_TAH     0\n",
       "JELUD_TAH     0\n",
       "FIBR_JELUD    0\n",
       "A_V_BLOK      0\n",
       "OTEK_LANC     0\n",
       "RAZRIV        0\n",
       "DRESSLER      0\n",
       "ZSN           0\n",
       "REC_IM        0\n",
       "P_IM_STEN     0\n",
       "LET_IS        0\n",
       "dtype: int64"
      ]
     },
     "execution_count": 6,
     "metadata": {},
     "output_type": "execute_result"
    }
   ],
   "source": [
    "#check if there are any nulls in the target data\n",
    "target.isnull().sum()"
   ]
  },
  {
   "cell_type": "markdown",
   "metadata": {},
   "source": [
    "Clean1 will remove unecessary columns for our data model. This includes the lethality classifications (mentioned above), as well as the patient identifier (ID) column"
   ]
  },
  {
   "cell_type": "code",
   "execution_count": 7,
   "metadata": {},
   "outputs": [
    {
     "data": {
      "text/html": [
       "<div>\n",
       "<style scoped>\n",
       "    .dataframe tbody tr th:only-of-type {\n",
       "        vertical-align: middle;\n",
       "    }\n",
       "\n",
       "    .dataframe tbody tr th {\n",
       "        vertical-align: top;\n",
       "    }\n",
       "\n",
       "    .dataframe thead th {\n",
       "        text-align: right;\n",
       "    }\n",
       "</style>\n",
       "<table border=\"1\" class=\"dataframe\">\n",
       "  <thead>\n",
       "    <tr style=\"text-align: right;\">\n",
       "      <th></th>\n",
       "      <th>AGE</th>\n",
       "      <th>SEX</th>\n",
       "      <th>INF_ANAM</th>\n",
       "      <th>STENOK_AN</th>\n",
       "      <th>FK_STENOK</th>\n",
       "      <th>IBS_POST</th>\n",
       "      <th>IBS_NASL</th>\n",
       "      <th>GB</th>\n",
       "      <th>SIM_GIPERT</th>\n",
       "      <th>DLIT_AG</th>\n",
       "      <th>...</th>\n",
       "      <th>NOT_NA_1_n</th>\n",
       "      <th>NOT_NA_2_n</th>\n",
       "      <th>NOT_NA_3_n</th>\n",
       "      <th>LID_S_n</th>\n",
       "      <th>B_BLOK_S_n</th>\n",
       "      <th>ANT_CA_S_n</th>\n",
       "      <th>GEPAR_S_n</th>\n",
       "      <th>ASP_S_n</th>\n",
       "      <th>TIKL_S_n</th>\n",
       "      <th>TRENT_S_n</th>\n",
       "    </tr>\n",
       "  </thead>\n",
       "  <tbody>\n",
       "    <tr>\n",
       "      <th>0</th>\n",
       "      <td>77.0</td>\n",
       "      <td>1</td>\n",
       "      <td>2.0</td>\n",
       "      <td>1.0</td>\n",
       "      <td>1.0</td>\n",
       "      <td>2.0</td>\n",
       "      <td>NaN</td>\n",
       "      <td>3.0</td>\n",
       "      <td>0.0</td>\n",
       "      <td>7.0</td>\n",
       "      <td>...</td>\n",
       "      <td>0.0</td>\n",
       "      <td>0.0</td>\n",
       "      <td>0.0</td>\n",
       "      <td>1.0</td>\n",
       "      <td>0.0</td>\n",
       "      <td>0.0</td>\n",
       "      <td>1.0</td>\n",
       "      <td>1.0</td>\n",
       "      <td>0.0</td>\n",
       "      <td>0.0</td>\n",
       "    </tr>\n",
       "    <tr>\n",
       "      <th>1</th>\n",
       "      <td>55.0</td>\n",
       "      <td>1</td>\n",
       "      <td>1.0</td>\n",
       "      <td>0.0</td>\n",
       "      <td>0.0</td>\n",
       "      <td>0.0</td>\n",
       "      <td>0.0</td>\n",
       "      <td>0.0</td>\n",
       "      <td>0.0</td>\n",
       "      <td>0.0</td>\n",
       "      <td>...</td>\n",
       "      <td>1.0</td>\n",
       "      <td>0.0</td>\n",
       "      <td>0.0</td>\n",
       "      <td>1.0</td>\n",
       "      <td>0.0</td>\n",
       "      <td>1.0</td>\n",
       "      <td>1.0</td>\n",
       "      <td>1.0</td>\n",
       "      <td>0.0</td>\n",
       "      <td>1.0</td>\n",
       "    </tr>\n",
       "    <tr>\n",
       "      <th>2</th>\n",
       "      <td>52.0</td>\n",
       "      <td>1</td>\n",
       "      <td>0.0</td>\n",
       "      <td>0.0</td>\n",
       "      <td>0.0</td>\n",
       "      <td>2.0</td>\n",
       "      <td>NaN</td>\n",
       "      <td>2.0</td>\n",
       "      <td>0.0</td>\n",
       "      <td>2.0</td>\n",
       "      <td>...</td>\n",
       "      <td>3.0</td>\n",
       "      <td>2.0</td>\n",
       "      <td>2.0</td>\n",
       "      <td>1.0</td>\n",
       "      <td>1.0</td>\n",
       "      <td>0.0</td>\n",
       "      <td>1.0</td>\n",
       "      <td>1.0</td>\n",
       "      <td>0.0</td>\n",
       "      <td>0.0</td>\n",
       "    </tr>\n",
       "    <tr>\n",
       "      <th>3</th>\n",
       "      <td>68.0</td>\n",
       "      <td>0</td>\n",
       "      <td>0.0</td>\n",
       "      <td>0.0</td>\n",
       "      <td>0.0</td>\n",
       "      <td>2.0</td>\n",
       "      <td>NaN</td>\n",
       "      <td>2.0</td>\n",
       "      <td>0.0</td>\n",
       "      <td>3.0</td>\n",
       "      <td>...</td>\n",
       "      <td>0.0</td>\n",
       "      <td>0.0</td>\n",
       "      <td>0.0</td>\n",
       "      <td>0.0</td>\n",
       "      <td>0.0</td>\n",
       "      <td>1.0</td>\n",
       "      <td>1.0</td>\n",
       "      <td>1.0</td>\n",
       "      <td>0.0</td>\n",
       "      <td>0.0</td>\n",
       "    </tr>\n",
       "    <tr>\n",
       "      <th>4</th>\n",
       "      <td>60.0</td>\n",
       "      <td>1</td>\n",
       "      <td>0.0</td>\n",
       "      <td>0.0</td>\n",
       "      <td>0.0</td>\n",
       "      <td>2.0</td>\n",
       "      <td>NaN</td>\n",
       "      <td>3.0</td>\n",
       "      <td>0.0</td>\n",
       "      <td>7.0</td>\n",
       "      <td>...</td>\n",
       "      <td>0.0</td>\n",
       "      <td>0.0</td>\n",
       "      <td>0.0</td>\n",
       "      <td>0.0</td>\n",
       "      <td>0.0</td>\n",
       "      <td>1.0</td>\n",
       "      <td>0.0</td>\n",
       "      <td>1.0</td>\n",
       "      <td>0.0</td>\n",
       "      <td>1.0</td>\n",
       "    </tr>\n",
       "  </tbody>\n",
       "</table>\n",
       "<p>5 rows × 111 columns</p>\n",
       "</div>"
      ],
      "text/plain": [
       "    AGE  SEX  INF_ANAM  STENOK_AN  FK_STENOK  IBS_POST  IBS_NASL   GB  \\\n",
       "0  77.0    1       2.0        1.0        1.0       2.0       NaN  3.0   \n",
       "1  55.0    1       1.0        0.0        0.0       0.0       0.0  0.0   \n",
       "2  52.0    1       0.0        0.0        0.0       2.0       NaN  2.0   \n",
       "3  68.0    0       0.0        0.0        0.0       2.0       NaN  2.0   \n",
       "4  60.0    1       0.0        0.0        0.0       2.0       NaN  3.0   \n",
       "\n",
       "   SIM_GIPERT  DLIT_AG  ...  NOT_NA_1_n  NOT_NA_2_n  NOT_NA_3_n  LID_S_n  \\\n",
       "0         0.0      7.0  ...         0.0         0.0         0.0      1.0   \n",
       "1         0.0      0.0  ...         1.0         0.0         0.0      1.0   \n",
       "2         0.0      2.0  ...         3.0         2.0         2.0      1.0   \n",
       "3         0.0      3.0  ...         0.0         0.0         0.0      0.0   \n",
       "4         0.0      7.0  ...         0.0         0.0         0.0      0.0   \n",
       "\n",
       "   B_BLOK_S_n  ANT_CA_S_n  GEPAR_S_n  ASP_S_n  TIKL_S_n  TRENT_S_n  \n",
       "0         0.0         0.0        1.0      1.0       0.0        0.0  \n",
       "1         0.0         1.0        1.0      1.0       0.0        1.0  \n",
       "2         1.0         0.0        1.0      1.0       0.0        0.0  \n",
       "3         0.0         1.0        1.0      1.0       0.0        0.0  \n",
       "4         0.0         1.0        0.0      1.0       0.0        1.0  \n",
       "\n",
       "[5 rows x 111 columns]"
      ]
     },
     "execution_count": 7,
     "metadata": {},
     "output_type": "execute_result"
    }
   ],
   "source": [
    "#Remove our classification columns (112-123) and remove the Patient ID column\n",
    "clean1 = rawData.drop(rawData.iloc[:, 112:124], inplace = False, axis=1)\n",
    "clean1.drop(['ID'], inplace=True, axis =1)\n",
    "clean1.head()"
   ]
  },
  {
   "cell_type": "markdown",
   "metadata": {},
   "source": [
    "Clean2 will deal with missing values. We set our threshold at 50%--that is, each factor must have more than 50% of the values be non-NA, otherwise there will be too many for us to reliably use."
   ]
  },
  {
   "cell_type": "code",
   "execution_count": 8,
   "metadata": {},
   "outputs": [
    {
     "data": {
      "text/plain": [
       "(1700, 107)"
      ]
     },
     "execution_count": 8,
     "metadata": {},
     "output_type": "execute_result"
    }
   ],
   "source": [
    "#remove columns with more than 50% missing values\n",
    "clean2 = clean1.dropna(thresh=clean1.shape[0]*0.5,how='all',axis=1)\n",
    "clean2.shape"
   ]
  },
  {
   "cell_type": "code",
   "execution_count": 9,
   "metadata": {},
   "outputs": [
    {
     "data": {
      "text/plain": [
       "{'AGE': 8,\n",
       " 'INF_ANAM': 4,\n",
       " 'STENOK_AN': 106,\n",
       " 'FK_STENOK': 73,\n",
       " 'IBS_POST': 51,\n",
       " 'GB': 9,\n",
       " 'SIM_GIPERT': 8,\n",
       " 'DLIT_AG': 248,\n",
       " 'ZSN_A': 54,\n",
       " 'nr_11': 21,\n",
       " 'nr_01': 21,\n",
       " 'nr_02': 21,\n",
       " 'nr_03': 21,\n",
       " 'nr_04': 21,\n",
       " 'nr_07': 21,\n",
       " 'nr_08': 21,\n",
       " 'np_01': 18,\n",
       " 'np_04': 18,\n",
       " 'np_05': 18,\n",
       " 'np_07': 18,\n",
       " 'np_08': 18,\n",
       " 'np_09': 18,\n",
       " 'np_10': 18,\n",
       " 'endocr_01': 11,\n",
       " 'endocr_02': 10,\n",
       " 'endocr_03': 10,\n",
       " 'zab_leg_01': 7,\n",
       " 'zab_leg_02': 7,\n",
       " 'zab_leg_03': 7,\n",
       " 'zab_leg_04': 7,\n",
       " 'zab_leg_06': 7,\n",
       " 'S_AD_ORIT': 267,\n",
       " 'D_AD_ORIT': 267,\n",
       " 'O_L_POST': 12,\n",
       " 'K_SH_POST': 15,\n",
       " 'MP_TP_POST': 14,\n",
       " 'SVT_POST': 12,\n",
       " 'GT_POST': 12,\n",
       " 'FIB_G_POST': 12,\n",
       " 'ant_im': 83,\n",
       " 'lat_im': 80,\n",
       " 'inf_im': 80,\n",
       " 'post_im': 72,\n",
       " 'IM_PG_P': 1,\n",
       " 'ritm_ecg_p_01': 152,\n",
       " 'ritm_ecg_p_02': 152,\n",
       " 'ritm_ecg_p_04': 152,\n",
       " 'ritm_ecg_p_06': 152,\n",
       " 'ritm_ecg_p_07': 152,\n",
       " 'ritm_ecg_p_08': 152,\n",
       " 'n_r_ecg_p_01': 115,\n",
       " 'n_r_ecg_p_02': 115,\n",
       " 'n_r_ecg_p_03': 115,\n",
       " 'n_r_ecg_p_04': 115,\n",
       " 'n_r_ecg_p_05': 115,\n",
       " 'n_r_ecg_p_06': 115,\n",
       " 'n_r_ecg_p_08': 115,\n",
       " 'n_r_ecg_p_09': 115,\n",
       " 'n_r_ecg_p_10': 115,\n",
       " 'n_p_ecg_p_01': 115,\n",
       " 'n_p_ecg_p_03': 115,\n",
       " 'n_p_ecg_p_04': 115,\n",
       " 'n_p_ecg_p_05': 115,\n",
       " 'n_p_ecg_p_06': 115,\n",
       " 'n_p_ecg_p_07': 115,\n",
       " 'n_p_ecg_p_08': 115,\n",
       " 'n_p_ecg_p_09': 115,\n",
       " 'n_p_ecg_p_10': 115,\n",
       " 'n_p_ecg_p_11': 115,\n",
       " 'n_p_ecg_p_12': 115,\n",
       " 'fibr_ter_01': 10,\n",
       " 'fibr_ter_02': 10,\n",
       " 'fibr_ter_03': 10,\n",
       " 'fibr_ter_05': 10,\n",
       " 'fibr_ter_06': 10,\n",
       " 'fibr_ter_07': 10,\n",
       " 'fibr_ter_08': 10,\n",
       " 'GIPO_K': 369,\n",
       " 'K_BLOOD': 371,\n",
       " 'GIPER_NA': 375,\n",
       " 'NA_BLOOD': 375,\n",
       " 'ALT_BLOOD': 284,\n",
       " 'AST_BLOOD': 285,\n",
       " 'L_BLOOD': 125,\n",
       " 'ROE': 203,\n",
       " 'TIME_B_S': 126,\n",
       " 'R_AB_1_n': 16,\n",
       " 'R_AB_2_n': 108,\n",
       " 'R_AB_3_n': 128,\n",
       " 'NA_KB': 657,\n",
       " 'NOT_NA_KB': 686,\n",
       " 'LID_KB': 677,\n",
       " 'NITR_S': 9,\n",
       " 'NA_R_1_n': 5,\n",
       " 'NA_R_2_n': 108,\n",
       " 'NA_R_3_n': 131,\n",
       " 'NOT_NA_1_n': 10,\n",
       " 'NOT_NA_2_n': 110,\n",
       " 'NOT_NA_3_n': 131,\n",
       " 'LID_S_n': 10,\n",
       " 'B_BLOK_S_n': 11,\n",
       " 'ANT_CA_S_n': 13,\n",
       " 'GEPAR_S_n': 17,\n",
       " 'ASP_S_n': 17,\n",
       " 'TIKL_S_n': 16,\n",
       " 'TRENT_S_n': 16}"
      ]
     },
     "execution_count": 9,
     "metadata": {},
     "output_type": "execute_result"
    }
   ],
   "source": [
    "#Find how many missing values are in each column\n",
    "pd.options.display.max_rows = 108\n",
    "missing_dict = dict(clean2.isna().sum())\n",
    "missing_dict = {k: v for k, v in missing_dict.items() if v!=0}\n",
    "missing_dict"
   ]
  },
  {
   "cell_type": "markdown",
   "metadata": {},
   "source": [
    "We will create Clean3, with imputed values. We will use several rules to impute missing values "
   ]
  },
  {
   "cell_type": "code",
   "execution_count": 10,
   "metadata": {},
   "outputs": [],
   "source": [
    "clean3 = clean2.copy()\n",
    "#list of real (continuous) columns from data description\n",
    "ordinals = [3,4,5,6,8,10,11,44,45,46,47,91,92,93,94,99,100,101,102,103,104,123]\n",
    "reals = [1,34,35,36,37,83,85,86,87,88,89,90]"
   ]
  },
  {
   "cell_type": "code",
   "execution_count": 11,
   "metadata": {},
   "outputs": [],
   "source": [
    "#all other values are binary\n",
    "binaries=[]\n",
    "for n in range(1,124):\n",
    "    if n not in ordinals and n not in reals:\n",
    "        binaries.append(n)\n",
    "features = list(rawData)"
   ]
  },
  {
   "cell_type": "markdown",
   "metadata": {},
   "source": [
    "For real values, we will use the mean to replace missing values if the distribution appears normal, or median, if it is skewed."
   ]
  },
  {
   "cell_type": "code",
   "execution_count": 12,
   "metadata": {},
   "outputs": [
    {
     "data": {
      "image/png": "[encoded data removed]",
      "text/plain": [
       "<Figure size 432x288 with 1 Axes>"
      ]
     },
     "metadata": {
      "needs_background": "light"
     },
     "output_type": "display_data"
    },
    {
     "data": {
      "image/png": "[encoded data removed]",
      "text/plain": [
       "<Figure size 432x288 with 1 Axes>"
      ]
     },
     "metadata": {
      "needs_background": "light"
     },
     "output_type": "display_data"
    },
    {
     "data": {
      "image/png": "[encoded data removed]",
      "text/plain": [
       "<Figure size 432x288 with 1 Axes>"
      ]
     },
     "metadata": {
      "needs_background": "light"
     },
     "output_type": "display_data"
    },
    {
     "data": {
      "image/png": "[encoded data removed]",
      "text/plain": [
       "<Figure size 432x288 with 1 Axes>"
      ]
     },
     "metadata": {
      "needs_background": "light"
     },
     "output_type": "display_data"
    },
    {
     "data": {
      "image/png": "[encoded data removed]",
      "text/plain": [
       "<Figure size 432x288 with 1 Axes>"
      ]
     },
     "metadata": {
      "needs_background": "light"
     },
     "output_type": "display_data"
    },
    {
     "data": {
      "image/png": "[encoded data removed]",
      "text/plain": [
       "<Figure size 432x288 with 1 Axes>"
      ]
     },
     "metadata": {
      "needs_background": "light"
     },
     "output_type": "display_data"
    },
    {
     "data": {
      "image/png": "[encoded data removed]",
      "text/plain": [
       "<Figure size 432x288 with 1 Axes>"
      ]
     },
     "metadata": {
      "needs_background": "light"
     },
     "output_type": "display_data"
    },
    {
     "data": {
      "image/png": "[encoded data removed]",
      "text/plain": [
       "<Figure size 432x288 with 1 Axes>"
      ]
     },
     "metadata": {
      "needs_background": "light"
     },
     "output_type": "display_data"
    },
    {
     "data": {
      "image/png": "[encoded data removed]",
      "text/plain": [
       "<Figure size 432x288 with 1 Axes>"
      ]
     },
     "metadata": {
      "needs_background": "light"
     },
     "output_type": "display_data"
    }
   ],
   "source": [
    "cleanedReals = []\n",
    "for i in reals:\n",
    "    if features[i] in clean3.columns:\n",
    "        cleanedReals.append(i)\n",
    "        plt.figure()\n",
    "        plt.hist(clean3[features[i]])\n",
    "        plt.title(features[i])\n",
    "        plt.show()\n",
    "#visually, we can seperate\n",
    "normal_reals = [\"AGE\", \"S_AD_ORIT\", \"D_AD_ORIT\", \"NA_BLOOD\"]\n",
    "skew_reals = [\"ROE\",\"L_BLOOD\",\"AST_BLOOD\",\"ALT_BLOOD\", \"K_BLOOD\"]\n",
    "\n",
    "for n in normal_reals:\n",
    "    clean3[n] = clean3[n].fillna(clean3[n].mean())\n",
    "for s in skew_reals:\n",
    "    clean3[s] = clean3[s].fillna(clean3[s].median())"
   ]
  },
  {
   "cell_type": "markdown",
   "metadata": {},
   "source": [
    "For binary missing values, we will use random proportional replacement, generated by sampling the data"
   ]
  },
  {
   "cell_type": "code",
   "execution_count": 13,
   "metadata": {},
   "outputs": [],
   "source": [
    "def na_randomfill(series):\n",
    "    na_mask = pd.isnull(series)   # boolean mask for null values\n",
    "    n_null = na_mask.sum()        # number of nulls in the Series\n",
    "    if n_null == 0:\n",
    "        return series             # if there are no nulls, no need to resample\n",
    "    # Randomly sample the non-null values from our series\n",
    "    #  only sample this Series as many times as we have nulls \n",
    "    fill_values = series[~na_mask].sample(n=n_null, replace=True, random_state=rstate)\n",
    "    fill_values.index = series.index[na_mask]  \n",
    "    return series.fillna(fill_values) \n",
    "\n",
    "for i in binaries:\n",
    "    if features[i] in clean3.columns:\n",
    "        clean3[features[i]] = na_randomfill(clean3[features[i]])\n",
    "#clean3.head(50)"
   ]
  },
  {
   "cell_type": "markdown",
   "metadata": {},
   "source": [
    "Finally, for ordinal values, we will impute missing values using the most common value, or mode. This is because ordinals in our data represent different health states, therefore a median might raise false flags, for example, if a there is a bi-modal distribution in heart disease severity, for example. "
   ]
  },
  {
   "cell_type": "code",
   "execution_count": 14,
   "metadata": {},
   "outputs": [
    {
     "data": {
      "image/png": "[encoded data removed]",
      "text/plain": [
       "<Figure size 432x288 with 1 Axes>"
      ]
     },
     "metadata": {
      "needs_background": "light"
     },
     "output_type": "display_data"
    },
    {
     "data": {
      "image/png": "[encoded data removed]",
      "text/plain": [
       "<Figure size 432x288 with 1 Axes>"
      ]
     },
     "metadata": {
      "needs_background": "light"
     },
     "output_type": "display_data"
    },
    {
     "data": {
      "image/png": "[encoded data removed]",
      "text/plain": [
       "<Figure size 432x288 with 1 Axes>"
      ]
     },
     "metadata": {
      "needs_background": "light"
     },
     "output_type": "display_data"
    },
    {
     "data": {
      "image/png": "[encoded data removed]",
      "text/plain": [
       "<Figure size 432x288 with 1 Axes>"
      ]
     },
     "metadata": {
      "needs_background": "light"
     },
     "output_type": "display_data"
    },
    {
     "data": {
      "image/png": "[encoded data removed]",
      "text/plain": [
       "<Figure size 432x288 with 1 Axes>"
      ]
     },
     "metadata": {
      "needs_background": "light"
     },
     "output_type": "display_data"
    },
    {
     "data": {
      "image/png": "[encoded data removed]",
      "text/plain": [
       "<Figure size 432x288 with 1 Axes>"
      ]
     },
     "metadata": {
      "needs_background": "light"
     },
     "output_type": "display_data"
    },
    {
     "data": {
      "image/png": "[encoded data removed]",
      "text/plain": [
       "<Figure size 432x288 with 1 Axes>"
      ]
     },
     "metadata": {
      "needs_background": "light"
     },
     "output_type": "display_data"
    },
    {
     "data": {
      "image/png": "[encoded data removed]",
      "text/plain": [
       "<Figure size 432x288 with 1 Axes>"
      ]
     },
     "metadata": {
      "needs_background": "light"
     },
     "output_type": "display_data"
    },
    {
     "data": {
      "image/png": "[encoded data removed]",
      "text/plain": [
       "<Figure size 432x288 with 1 Axes>"
      ]
     },
     "metadata": {
      "needs_background": "light"
     },
     "output_type": "display_data"
    },
    {
     "data": {
      "image/png": "[encoded data removed]",
      "text/plain": [
       "<Figure size 432x288 with 1 Axes>"
      ]
     },
     "metadata": {
      "needs_background": "light"
     },
     "output_type": "display_data"
    },
    {
     "data": {
      "image/png": "[encoded data removed]",
      "text/plain": [
       "<Figure size 432x288 with 1 Axes>"
      ]
     },
     "metadata": {
      "needs_background": "light"
     },
     "output_type": "display_data"
    },
    {
     "data": {
      "image/png": "[encoded data removed]",
      "text/plain": [
       "<Figure size 432x288 with 1 Axes>"
      ]
     },
     "metadata": {
      "needs_background": "light"
     },
     "output_type": "display_data"
    },
    {
     "data": {
      "image/png": "[encoded data removed]",
      "text/plain": [
       "<Figure size 432x288 with 1 Axes>"
      ]
     },
     "metadata": {
      "needs_background": "light"
     },
     "output_type": "display_data"
    },
    {
     "data": {
      "image/png": "[encoded data removed]",
      "text/plain": [
       "<Figure size 432x288 with 1 Axes>"
      ]
     },
     "metadata": {
      "needs_background": "light"
     },
     "output_type": "display_data"
    },
    {
     "data": {
      "image/png": "[encoded data removed]",
      "text/plain": [
       "<Figure size 432x288 with 1 Axes>"
      ]
     },
     "metadata": {
      "needs_background": "light"
     },
     "output_type": "display_data"
    },
    {
     "data": {
      "image/png": "[encoded data removed]",
      "text/plain": [
       "<Figure size 432x288 with 1 Axes>"
      ]
     },
     "metadata": {
      "needs_background": "light"
     },
     "output_type": "display_data"
    },
    {
     "data": {
      "image/png": "[encoded data removed]",
      "text/plain": [
       "<Figure size 432x288 with 1 Axes>"
      ]
     },
     "metadata": {
      "needs_background": "light"
     },
     "output_type": "display_data"
    },
    {
     "data": {
      "image/png": "[encoded data removed]",
      "text/plain": [
       "<Figure size 432x288 with 1 Axes>"
      ]
     },
     "metadata": {
      "needs_background": "light"
     },
     "output_type": "display_data"
    },
    {
     "data": {
      "image/png": "[encoded data removed]",
      "text/plain": [
       "<Figure size 432x288 with 1 Axes>"
      ]
     },
     "metadata": {
      "needs_background": "light"
     },
     "output_type": "display_data"
    },
    {
     "data": {
      "image/png": "[encoded data removed]",
      "text/plain": [
       "<Figure size 432x288 with 1 Axes>"
      ]
     },
     "metadata": {
      "needs_background": "light"
     },
     "output_type": "display_data"
    },
    {
     "data": {
      "image/png": "[encoded data removed]",
      "text/plain": [
       "<Figure size 432x288 with 1 Axes>"
      ]
     },
     "metadata": {
      "needs_background": "light"
     },
     "output_type": "display_data"
    }
   ],
   "source": [
    "#the mode works well to impute unimodal ordinals, so let's first review the histograms.\n",
    "for i in ordinals:\n",
    "    if features[i] in clean3.columns:\n",
    "        plt.figure()\n",
    "        plt.hist(clean3[features[i]])\n",
    "        plt.title(features[i])\n",
    "        plt.show()"
   ]
  },
  {
   "cell_type": "markdown",
   "metadata": {},
   "source": [
    "It llooks like all of our ordinals are unimodal, so we can proceed using the mode to fill"
   ]
  },
  {
   "cell_type": "code",
   "execution_count": 15,
   "metadata": {},
   "outputs": [],
   "source": [
    "#list of ordinal values from data description\n",
    "for i in ordinals:\n",
    "    c = features[i]\n",
    "   #print(list(clean3))\n",
    "    if c in list(clean3):\n",
    "        iMode = clean3[c].mode()[0]\n",
    "        clean3[c].fillna(iMode,inplace=True)"
   ]
  },
  {
   "cell_type": "code",
   "execution_count": 16,
   "metadata": {},
   "outputs": [
    {
     "data": {
      "text/plain": [
       "{}"
      ]
     },
     "execution_count": 16,
     "metadata": {},
     "output_type": "execute_result"
    }
   ],
   "source": [
    "#check for na values after filling\n",
    "missing_dict = dict(clean3.isna().sum())\n",
    "missing_dict = {k: v for k, v in missing_dict.items() if v!=0}\n",
    "missing_dict"
   ]
  },
  {
   "cell_type": "code",
   "execution_count": 17,
   "metadata": {},
   "outputs": [
    {
     "data": {
      "text/html": [
       "<div>\n",
       "<style scoped>\n",
       "    .dataframe tbody tr th:only-of-type {\n",
       "        vertical-align: middle;\n",
       "    }\n",
       "\n",
       "    .dataframe tbody tr th {\n",
       "        vertical-align: top;\n",
       "    }\n",
       "\n",
       "    .dataframe thead th {\n",
       "        text-align: right;\n",
       "    }\n",
       "</style>\n",
       "<table border=\"1\" class=\"dataframe\">\n",
       "  <thead>\n",
       "    <tr style=\"text-align: right;\">\n",
       "      <th></th>\n",
       "      <th>AGE</th>\n",
       "      <th>SEX</th>\n",
       "      <th>INF_ANAM</th>\n",
       "      <th>STENOK_AN</th>\n",
       "      <th>FK_STENOK</th>\n",
       "      <th>IBS_POST</th>\n",
       "      <th>GB</th>\n",
       "      <th>SIM_GIPERT</th>\n",
       "      <th>DLIT_AG</th>\n",
       "      <th>ZSN_A</th>\n",
       "      <th>...</th>\n",
       "      <th>NOT_NA_1_n</th>\n",
       "      <th>NOT_NA_2_n</th>\n",
       "      <th>NOT_NA_3_n</th>\n",
       "      <th>LID_S_n</th>\n",
       "      <th>B_BLOK_S_n</th>\n",
       "      <th>ANT_CA_S_n</th>\n",
       "      <th>GEPAR_S_n</th>\n",
       "      <th>ASP_S_n</th>\n",
       "      <th>TIKL_S_n</th>\n",
       "      <th>TRENT_S_n</th>\n",
       "    </tr>\n",
       "  </thead>\n",
       "  <tbody>\n",
       "    <tr>\n",
       "      <th>0</th>\n",
       "      <td>77.0</td>\n",
       "      <td>1</td>\n",
       "      <td>2.0</td>\n",
       "      <td>1.0</td>\n",
       "      <td>1.0</td>\n",
       "      <td>2.0</td>\n",
       "      <td>3.0</td>\n",
       "      <td>0.0</td>\n",
       "      <td>7.0</td>\n",
       "      <td>0.0</td>\n",
       "      <td>...</td>\n",
       "      <td>0.0</td>\n",
       "      <td>0.0</td>\n",
       "      <td>0.0</td>\n",
       "      <td>1.0</td>\n",
       "      <td>0.0</td>\n",
       "      <td>0.0</td>\n",
       "      <td>1.0</td>\n",
       "      <td>1.0</td>\n",
       "      <td>0.0</td>\n",
       "      <td>0.0</td>\n",
       "    </tr>\n",
       "    <tr>\n",
       "      <th>1</th>\n",
       "      <td>55.0</td>\n",
       "      <td>1</td>\n",
       "      <td>1.0</td>\n",
       "      <td>0.0</td>\n",
       "      <td>0.0</td>\n",
       "      <td>0.0</td>\n",
       "      <td>0.0</td>\n",
       "      <td>0.0</td>\n",
       "      <td>0.0</td>\n",
       "      <td>0.0</td>\n",
       "      <td>...</td>\n",
       "      <td>1.0</td>\n",
       "      <td>0.0</td>\n",
       "      <td>0.0</td>\n",
       "      <td>1.0</td>\n",
       "      <td>0.0</td>\n",
       "      <td>1.0</td>\n",
       "      <td>1.0</td>\n",
       "      <td>1.0</td>\n",
       "      <td>0.0</td>\n",
       "      <td>1.0</td>\n",
       "    </tr>\n",
       "    <tr>\n",
       "      <th>2</th>\n",
       "      <td>52.0</td>\n",
       "      <td>1</td>\n",
       "      <td>0.0</td>\n",
       "      <td>0.0</td>\n",
       "      <td>0.0</td>\n",
       "      <td>2.0</td>\n",
       "      <td>2.0</td>\n",
       "      <td>0.0</td>\n",
       "      <td>2.0</td>\n",
       "      <td>0.0</td>\n",
       "      <td>...</td>\n",
       "      <td>3.0</td>\n",
       "      <td>2.0</td>\n",
       "      <td>2.0</td>\n",
       "      <td>1.0</td>\n",
       "      <td>1.0</td>\n",
       "      <td>0.0</td>\n",
       "      <td>1.0</td>\n",
       "      <td>1.0</td>\n",
       "      <td>0.0</td>\n",
       "      <td>0.0</td>\n",
       "    </tr>\n",
       "    <tr>\n",
       "      <th>3</th>\n",
       "      <td>68.0</td>\n",
       "      <td>0</td>\n",
       "      <td>0.0</td>\n",
       "      <td>0.0</td>\n",
       "      <td>0.0</td>\n",
       "      <td>2.0</td>\n",
       "      <td>2.0</td>\n",
       "      <td>0.0</td>\n",
       "      <td>3.0</td>\n",
       "      <td>1.0</td>\n",
       "      <td>...</td>\n",
       "      <td>0.0</td>\n",
       "      <td>0.0</td>\n",
       "      <td>0.0</td>\n",
       "      <td>0.0</td>\n",
       "      <td>0.0</td>\n",
       "      <td>1.0</td>\n",
       "      <td>1.0</td>\n",
       "      <td>1.0</td>\n",
       "      <td>0.0</td>\n",
       "      <td>0.0</td>\n",
       "    </tr>\n",
       "    <tr>\n",
       "      <th>4</th>\n",
       "      <td>60.0</td>\n",
       "      <td>1</td>\n",
       "      <td>0.0</td>\n",
       "      <td>0.0</td>\n",
       "      <td>0.0</td>\n",
       "      <td>2.0</td>\n",
       "      <td>3.0</td>\n",
       "      <td>0.0</td>\n",
       "      <td>7.0</td>\n",
       "      <td>0.0</td>\n",
       "      <td>...</td>\n",
       "      <td>0.0</td>\n",
       "      <td>0.0</td>\n",
       "      <td>0.0</td>\n",
       "      <td>0.0</td>\n",
       "      <td>0.0</td>\n",
       "      <td>1.0</td>\n",
       "      <td>0.0</td>\n",
       "      <td>1.0</td>\n",
       "      <td>0.0</td>\n",
       "      <td>1.0</td>\n",
       "    </tr>\n",
       "    <tr>\n",
       "      <th>...</th>\n",
       "      <td>...</td>\n",
       "      <td>...</td>\n",
       "      <td>...</td>\n",
       "      <td>...</td>\n",
       "      <td>...</td>\n",
       "      <td>...</td>\n",
       "      <td>...</td>\n",
       "      <td>...</td>\n",
       "      <td>...</td>\n",
       "      <td>...</td>\n",
       "      <td>...</td>\n",
       "      <td>...</td>\n",
       "      <td>...</td>\n",
       "      <td>...</td>\n",
       "      <td>...</td>\n",
       "      <td>...</td>\n",
       "      <td>...</td>\n",
       "      <td>...</td>\n",
       "      <td>...</td>\n",
       "      <td>...</td>\n",
       "      <td>...</td>\n",
       "    </tr>\n",
       "    <tr>\n",
       "      <th>1695</th>\n",
       "      <td>77.0</td>\n",
       "      <td>0</td>\n",
       "      <td>0.0</td>\n",
       "      <td>4.0</td>\n",
       "      <td>2.0</td>\n",
       "      <td>1.0</td>\n",
       "      <td>2.0</td>\n",
       "      <td>0.0</td>\n",
       "      <td>7.0</td>\n",
       "      <td>0.0</td>\n",
       "      <td>...</td>\n",
       "      <td>0.0</td>\n",
       "      <td>0.0</td>\n",
       "      <td>0.0</td>\n",
       "      <td>0.0</td>\n",
       "      <td>0.0</td>\n",
       "      <td>0.0</td>\n",
       "      <td>0.0</td>\n",
       "      <td>0.0</td>\n",
       "      <td>0.0</td>\n",
       "      <td>0.0</td>\n",
       "    </tr>\n",
       "    <tr>\n",
       "      <th>1696</th>\n",
       "      <td>70.0</td>\n",
       "      <td>0</td>\n",
       "      <td>0.0</td>\n",
       "      <td>6.0</td>\n",
       "      <td>2.0</td>\n",
       "      <td>1.0</td>\n",
       "      <td>2.0</td>\n",
       "      <td>0.0</td>\n",
       "      <td>7.0</td>\n",
       "      <td>0.0</td>\n",
       "      <td>...</td>\n",
       "      <td>0.0</td>\n",
       "      <td>0.0</td>\n",
       "      <td>0.0</td>\n",
       "      <td>1.0</td>\n",
       "      <td>0.0</td>\n",
       "      <td>0.0</td>\n",
       "      <td>0.0</td>\n",
       "      <td>0.0</td>\n",
       "      <td>0.0</td>\n",
       "      <td>0.0</td>\n",
       "    </tr>\n",
       "    <tr>\n",
       "      <th>1697</th>\n",
       "      <td>55.0</td>\n",
       "      <td>1</td>\n",
       "      <td>3.0</td>\n",
       "      <td>6.0</td>\n",
       "      <td>2.0</td>\n",
       "      <td>2.0</td>\n",
       "      <td>0.0</td>\n",
       "      <td>0.0</td>\n",
       "      <td>0.0</td>\n",
       "      <td>0.0</td>\n",
       "      <td>...</td>\n",
       "      <td>0.0</td>\n",
       "      <td>0.0</td>\n",
       "      <td>0.0</td>\n",
       "      <td>0.0</td>\n",
       "      <td>1.0</td>\n",
       "      <td>0.0</td>\n",
       "      <td>1.0</td>\n",
       "      <td>1.0</td>\n",
       "      <td>0.0</td>\n",
       "      <td>0.0</td>\n",
       "    </tr>\n",
       "    <tr>\n",
       "      <th>1698</th>\n",
       "      <td>79.0</td>\n",
       "      <td>0</td>\n",
       "      <td>2.0</td>\n",
       "      <td>2.0</td>\n",
       "      <td>2.0</td>\n",
       "      <td>1.0</td>\n",
       "      <td>2.0</td>\n",
       "      <td>0.0</td>\n",
       "      <td>7.0</td>\n",
       "      <td>0.0</td>\n",
       "      <td>...</td>\n",
       "      <td>1.0</td>\n",
       "      <td>0.0</td>\n",
       "      <td>0.0</td>\n",
       "      <td>1.0</td>\n",
       "      <td>0.0</td>\n",
       "      <td>1.0</td>\n",
       "      <td>1.0</td>\n",
       "      <td>1.0</td>\n",
       "      <td>0.0</td>\n",
       "      <td>0.0</td>\n",
       "    </tr>\n",
       "    <tr>\n",
       "      <th>1699</th>\n",
       "      <td>63.0</td>\n",
       "      <td>1</td>\n",
       "      <td>2.0</td>\n",
       "      <td>0.0</td>\n",
       "      <td>2.0</td>\n",
       "      <td>2.0</td>\n",
       "      <td>2.0</td>\n",
       "      <td>0.0</td>\n",
       "      <td>0.0</td>\n",
       "      <td>4.0</td>\n",
       "      <td>...</td>\n",
       "      <td>0.0</td>\n",
       "      <td>0.0</td>\n",
       "      <td>0.0</td>\n",
       "      <td>0.0</td>\n",
       "      <td>0.0</td>\n",
       "      <td>0.0</td>\n",
       "      <td>0.0</td>\n",
       "      <td>0.0</td>\n",
       "      <td>0.0</td>\n",
       "      <td>0.0</td>\n",
       "    </tr>\n",
       "  </tbody>\n",
       "</table>\n",
       "<p>1700 rows × 107 columns</p>\n",
       "</div>"
      ],
      "text/plain": [
       "       AGE  SEX  INF_ANAM  STENOK_AN  FK_STENOK  IBS_POST   GB  SIM_GIPERT  \\\n",
       "0     77.0    1       2.0        1.0        1.0       2.0  3.0         0.0   \n",
       "1     55.0    1       1.0        0.0        0.0       0.0  0.0         0.0   \n",
       "2     52.0    1       0.0        0.0        0.0       2.0  2.0         0.0   \n",
       "3     68.0    0       0.0        0.0        0.0       2.0  2.0         0.0   \n",
       "4     60.0    1       0.0        0.0        0.0       2.0  3.0         0.0   \n",
       "...    ...  ...       ...        ...        ...       ...  ...         ...   \n",
       "1695  77.0    0       0.0        4.0        2.0       1.0  2.0         0.0   \n",
       "1696  70.0    0       0.0        6.0        2.0       1.0  2.0         0.0   \n",
       "1697  55.0    1       3.0        6.0        2.0       2.0  0.0         0.0   \n",
       "1698  79.0    0       2.0        2.0        2.0       1.0  2.0         0.0   \n",
       "1699  63.0    1       2.0        0.0        2.0       2.0  2.0         0.0   \n",
       "\n",
       "      DLIT_AG  ZSN_A  ...  NOT_NA_1_n  NOT_NA_2_n  NOT_NA_3_n  LID_S_n  \\\n",
       "0         7.0    0.0  ...         0.0         0.0         0.0      1.0   \n",
       "1         0.0    0.0  ...         1.0         0.0         0.0      1.0   \n",
       "2         2.0    0.0  ...         3.0         2.0         2.0      1.0   \n",
       "3         3.0    1.0  ...         0.0         0.0         0.0      0.0   \n",
       "4         7.0    0.0  ...         0.0         0.0         0.0      0.0   \n",
       "...       ...    ...  ...         ...         ...         ...      ...   \n",
       "1695      7.0    0.0  ...         0.0         0.0         0.0      0.0   \n",
       "1696      7.0    0.0  ...         0.0         0.0         0.0      1.0   \n",
       "1697      0.0    0.0  ...         0.0         0.0         0.0      0.0   \n",
       "1698      7.0    0.0  ...         1.0         0.0         0.0      1.0   \n",
       "1699      0.0    4.0  ...         0.0         0.0         0.0      0.0   \n",
       "\n",
       "      B_BLOK_S_n  ANT_CA_S_n  GEPAR_S_n  ASP_S_n  TIKL_S_n  TRENT_S_n  \n",
       "0            0.0         0.0        1.0      1.0       0.0        0.0  \n",
       "1            0.0         1.0        1.0      1.0       0.0        1.0  \n",
       "2            1.0         0.0        1.0      1.0       0.0        0.0  \n",
       "3            0.0         1.0        1.0      1.0       0.0        0.0  \n",
       "4            0.0         1.0        0.0      1.0       0.0        1.0  \n",
       "...          ...         ...        ...      ...       ...        ...  \n",
       "1695         0.0         0.0        0.0      0.0       0.0        0.0  \n",
       "1696         0.0         0.0        0.0      0.0       0.0        0.0  \n",
       "1697         1.0         0.0        1.0      1.0       0.0        0.0  \n",
       "1698         0.0         1.0        1.0      1.0       0.0        0.0  \n",
       "1699         0.0         0.0        0.0      0.0       0.0        0.0  \n",
       "\n",
       "[1700 rows x 107 columns]"
      ]
     },
     "execution_count": 17,
     "metadata": {},
     "output_type": "execute_result"
    }
   ],
   "source": [
    "clean3 "
   ]
  },
  {
   "cell_type": "markdown",
   "metadata": {},
   "source": [
    "Now that the data has been cleaned up, we apply a MinMaxScaler Transform and use PCA to reduce dimensionality. We're using this instead of a Standard Scaler because keeping our data range small will greatly improve run times later on in SVC\n"
   ]
  },
  {
   "cell_type": "code",
   "execution_count": 18,
   "metadata": {},
   "outputs": [],
   "source": [
    "from sklearn.preprocessing import MinMaxScaler\n",
    "\n",
    "scaler = MinMaxScaler()\n",
    "scaler.fit(clean3)\n",
    "scaled_data = scaler.transform(clean3)"
   ]
  },
  {
   "cell_type": "code",
   "execution_count": 19,
   "metadata": {},
   "outputs": [],
   "source": [
    "from sklearn.decomposition import PCA"
   ]
  },
  {
   "cell_type": "code",
   "execution_count": 20,
   "metadata": {},
   "outputs": [
    {
     "data": {
      "text/plain": [
       "PCA()"
      ]
     },
     "execution_count": 20,
     "metadata": {},
     "output_type": "execute_result"
    }
   ],
   "source": [
    "pca = PCA()\n",
    "pca.fit(scaled_data)"
   ]
  },
  {
   "cell_type": "markdown",
   "metadata": {},
   "source": [
    "Below are some graphs relating to explained varience"
   ]
  },
  {
   "cell_type": "code",
   "execution_count": 21,
   "metadata": {},
   "outputs": [
    {
     "data": {
      "image/png": "[encoded data removed]",
      "text/plain": [
       "<Figure size 432x288 with 1 Axes>"
      ]
     },
     "metadata": {
      "needs_background": "light"
     },
     "output_type": "display_data"
    }
   ],
   "source": [
    "plt.plot(pca.explained_variance_ratio_);"
   ]
  },
  {
   "cell_type": "code",
   "execution_count": 22,
   "metadata": {},
   "outputs": [
    {
     "data": {
      "image/png": "[encoded data removed]",
      "text/plain": [
       "<Figure size 432x288 with 1 Axes>"
      ]
     },
     "metadata": {
      "needs_background": "light"
     },
     "output_type": "display_data"
    }
   ],
   "source": [
    "subset_number = 20\n",
    "y = pca.explained_variance_ratio_[:subset_number]\n",
    "x = range(subset_number)\n",
    "plt.xticks(np.arange(min(x), max(x)+1, 1.0))\n",
    "plt.xlabel(\"Component\")\n",
    "plt.ylabel(\"Explained Variance Value\")\n",
    "plt.title(\"First 20 Components\")\n",
    "plt.bar(x,y);"
   ]
  },
  {
   "cell_type": "markdown",
   "metadata": {},
   "source": [
    "Cumulative Explained Variance:"
   ]
  },
  {
   "cell_type": "code",
   "execution_count": 23,
   "metadata": {},
   "outputs": [
    {
     "data": {
      "image/png": "[encoded data removed]",
      "text/plain": [
       "<Figure size 432x288 with 1 Axes>"
      ]
     },
     "metadata": {
      "needs_background": "light"
     },
     "output_type": "display_data"
    }
   ],
   "source": [
    "cumulativesums = np.cumsum(pca.explained_variance_ratio_)\n",
    "plt.title(\"Cumulative Explained Variance\")\n",
    "plt.bar(range(107),cumulativesums);"
   ]
  },
  {
   "cell_type": "markdown",
   "metadata": {},
   "source": [
    "It looks like significantly compressing the data will be difficult, but we will be able to shave things down somewhat.\n",
    "\n",
    "The code below tells us what cutoff to pick if we want to maintain a certain percentage of the variance:"
   ]
  },
  {
   "cell_type": "code",
   "execution_count": 24,
   "metadata": {},
   "outputs": [],
   "source": [
    "def find_pca_cutoff(desired_percentage_variance,cumsum,numb_components):\n",
    "    for i in range(0,numb_components):\n",
    "        value = cumsum[i]\n",
    "        if value >= desired_percentage_variance:\n",
    "            return i, value\n",
    "    return -1, \"FAILED\""
   ]
  },
  {
   "cell_type": "code",
   "execution_count": 25,
   "metadata": {},
   "outputs": [
    {
     "name": "stdout",
     "output_type": "stream",
     "text": [
      "If we want at least 50.0% variance:\n",
      "    Cutoff =   10 / 107 (Real Value: 0.5143667314830134)\n",
      "\n",
      "If we want at least 60.0% variance:\n",
      "    Cutoff =   13 / 107 (Real Value: 0.6012673122672146)\n",
      "\n",
      "If we want at least 70.0% variance:\n",
      "    Cutoff =   18 / 107 (Real Value: 0.7024142870065532)\n",
      "\n",
      "If we want at least 75.0% variance:\n",
      "    Cutoff =   22 / 107 (Real Value: 0.762258220829959)\n",
      "\n",
      "If we want at least 80.0% variance:\n",
      "    Cutoff =   26 / 107 (Real Value: 0.8069378629006856)\n",
      "\n",
      "If we want at least 85.0% variance:\n",
      "    Cutoff =   32 / 107 (Real Value: 0.85470755047972)\n",
      "\n",
      "If we want at least 90.0% variance:\n",
      "    Cutoff =   41 / 107 (Real Value: 0.9023950467782412)\n",
      "\n",
      "If we want at least 91.0% variance:\n",
      "    Cutoff =   43 / 107 (Real Value: 0.9108704367738577)\n",
      "\n",
      "If we want at least 92.0% variance:\n",
      "    Cutoff =   46 / 107 (Real Value: 0.9225969129472307)\n",
      "\n",
      "If we want at least 93.0% variance:\n",
      "    Cutoff =   49 / 107 (Real Value: 0.9334862940780058)\n",
      "\n",
      "If we want at least 94.0% variance:\n",
      "    Cutoff =   51 / 107 (Real Value: 0.9401714466983969)\n",
      "\n",
      "If we want at least 95.0% variance:\n",
      "    Cutoff =   55 / 107 (Real Value: 0.9521380445509494)\n",
      "\n",
      "If we want at least 96.0% variance:\n",
      "    Cutoff =   58 / 107 (Real Value: 0.960210114813035)\n",
      "\n",
      "If we want at least 97.0% variance:\n",
      "    Cutoff =   63 / 107 (Real Value: 0.9709605583798169)\n",
      "\n",
      "If we want at least 98.0% variance:\n",
      "    Cutoff =   70 / 107 (Real Value: 0.9809407008096486)\n",
      "\n",
      "If we want at least 99.0% variance:\n",
      "    Cutoff =   79 / 107 (Real Value: 0.9900642186148568)\n",
      "\n"
     ]
    }
   ],
   "source": [
    "num_components = 107\n",
    "desired_percentages= [0.5,0.6,0.7,0.75,0.8,0.85,0.9,0.91,0.92,0.93,0.94,0.95,0.96,0.97,0.98,0.99]\n",
    "\n",
    "for percent in desired_percentages:\n",
    "    index, real_value = find_pca_cutoff(percent,cumulativesums,num_components)\n",
    "    print(\"If we want at least {}% variance:\".format(100*percent))\n",
    "    print(\"    Cutoff = {:-4} /{:-4} (Real Value: {:-4})\".format(index,num_components,real_value))\n",
    "    print()"
   ]
  },
  {
   "cell_type": "markdown",
   "metadata": {},
   "source": [
    "Let's keep 55 components, and get rid of 52. That's 95% variance."
   ]
  },
  {
   "cell_type": "code",
   "execution_count": 26,
   "metadata": {},
   "outputs": [
    {
     "name": "stdout",
     "output_type": "stream",
     "text": [
      "(1700, 52)\n"
     ]
    }
   ],
   "source": [
    "pca_reducer = PCA(n_components=52)\n",
    "pca_reducer.fit(scaled_data)\n",
    "reduced_data = pca_reducer.transform(scaled_data)\n",
    "print(reduced_data.shape)"
   ]
  },
  {
   "cell_type": "markdown",
   "metadata": {},
   "source": [
    "PCA compression done!"
   ]
  },
  {
   "cell_type": "markdown",
   "metadata": {},
   "source": [
    "We could solve for a few different problems from this dataset. For instance, multiclass classification (what CAUSE of death / complications will a patient have), or simple lethality prediction (does a patient live or die). In this report, we perform simple lethality prediction, but we would love to do more complex predictions in the future when we do not have time and processing constraints.\n",
    "\n",
    "For the lethality predictor, we will create a lethality target group, and map our outcomes as dead/alive"
   ]
  },
  {
   "cell_type": "code",
   "execution_count": 27,
   "metadata": {},
   "outputs": [],
   "source": [
    "#first we create a new target list\n",
    "death_target = target[\"LET_IS\"]\n",
    "outcomeList = list(death_target.unique())\n",
    "#for lethal outcomes, 0 means alive, while 1-7 are causes of death that we will group together\n",
    "def lethalMap(val):\n",
    "    if val == 0:\n",
    "        return 0\n",
    "    return 1\n",
    "\n",
    "death_target = death_target.apply(lethalMap)"
   ]
  },
  {
   "cell_type": "code",
   "execution_count": 28,
   "metadata": {},
   "outputs": [
    {
     "data": {
      "text/plain": [
       "0       0\n",
       "1       0\n",
       "2       0\n",
       "3       0\n",
       "4       0\n",
       "       ..\n",
       "1695    1\n",
       "1696    1\n",
       "1697    1\n",
       "1698    1\n",
       "1699    1\n",
       "Name: LET_IS, Length: 1700, dtype: int64"
      ]
     },
     "execution_count": 28,
     "metadata": {},
     "output_type": "execute_result"
    }
   ],
   "source": [
    "death_target"
   ]
  },
  {
   "cell_type": "markdown",
   "metadata": {},
   "source": [
    "Below, the data is split into 2 Groups:\n",
    "\n",
    "80%   Training\n",
    "\n",
    "20% Testing\n",
    "\n",
    "These splits make up a simple lethality (leth) prediction set. (X_train_leth, X_test_leth, ...)"
   ]
  },
  {
   "cell_type": "code",
   "execution_count": 29,
   "metadata": {},
   "outputs": [],
   "source": [
    "from sklearn.model_selection import train_test_split\n",
    "\n",
    "#Split the Pure Lethality Set\n",
    "# stratify = death_target\n",
    "X_train_leth, X_test_leth, y_train_leth, y_test_leth = train_test_split(reduced_data,death_target, \n",
    "                                                                        random_state=rstate,stratify=death_target,\n",
    "                                                                       test_size=0.2)"
   ]
  },
  {
   "cell_type": "markdown",
   "metadata": {},
   "source": [
    "Let's quickly check that the data is properly split:"
   ]
  },
  {
   "cell_type": "code",
   "execution_count": 30,
   "metadata": {},
   "outputs": [
    {
     "name": "stdout",
     "output_type": "stream",
     "text": [
      "(1360, 52)\n",
      "(340, 52)\n",
      "(1360,)\n",
      "(340,)\n"
     ]
    }
   ],
   "source": [
    "for split in [X_train_leth, X_test_leth, y_train_leth, y_test_leth]:\n",
    "    print(split.shape)"
   ]
  },
  {
   "cell_type": "markdown",
   "metadata": {},
   "source": [
    "This is correct."
   ]
  },
  {
   "cell_type": "code",
   "execution_count": 31,
   "metadata": {},
   "outputs": [
    {
     "data": {
      "text/plain": [
       "array([[ 1.63803088e-01,  1.03422117e+00, -4.44315857e-01, ...,\n",
       "         3.91875334e-02, -1.07620243e-01, -1.31037079e-01],\n",
       "       [ 6.27194681e-01, -3.80392216e-01, -1.29901040e+00, ...,\n",
       "        -3.30016291e-04,  9.16341690e-03, -5.17106076e-02],\n",
       "       [ 6.22576805e-01, -1.16557768e+00,  5.04032706e-02, ...,\n",
       "         7.32523761e-04,  1.92527172e-02, -4.96301399e-02],\n",
       "       ...,\n",
       "       [-4.93070968e-01, -2.48638152e-01,  5.44585088e-01, ...,\n",
       "         4.26504764e-02,  7.69327001e-02, -1.96003357e-02],\n",
       "       [ 1.00908863e+00, -8.20247405e-02, -3.77373087e-01, ...,\n",
       "        -1.32676759e-01, -1.26977652e-01, -8.61375981e-02],\n",
       "       [-2.55198027e-01, -5.86699550e-01,  4.93144663e-02, ...,\n",
       "        -6.84820357e-02,  2.93590431e-01,  2.46602805e-01]])"
      ]
     },
     "execution_count": 31,
     "metadata": {},
     "output_type": "execute_result"
    }
   ],
   "source": [
    "X_train_leth"
   ]
  },
  {
   "cell_type": "code",
   "execution_count": 32,
   "metadata": {},
   "outputs": [
    {
     "data": {
      "text/plain": [
       "50      0\n",
       "1055    0\n",
       "1099    0\n",
       "138     0\n",
       "537     0\n",
       "       ..\n",
       "1427    1\n",
       "724     0\n",
       "405     0\n",
       "387     0\n",
       "34      0\n",
       "Name: LET_IS, Length: 1360, dtype: int64"
      ]
     },
     "execution_count": 32,
     "metadata": {},
     "output_type": "execute_result"
    }
   ],
   "source": [
    "y_train_leth"
   ]
  },
  {
   "cell_type": "markdown",
   "metadata": {},
   "source": [
    "That looks correct."
   ]
  },
  {
   "cell_type": "markdown",
   "metadata": {},
   "source": [
    "Now that our data is split, we can begin using K-Fold Cross Validation and a Grid Search to try out different models for effectivity.\n",
    "\n",
    "For this binary classification problem, we'll be comparing:\n",
    "\n",
    "KNN\n",
    "\n",
    "Logistic Regression\n",
    "\n",
    "Kernal SVM (Liner, and rbf)\n",
    "\n",
    "Naive Bayes\n",
    "\n",
    "Random Forest\n",
    "\n",
    "Gradient Boosted Trees!"
   ]
  },
  {
   "cell_type": "markdown",
   "metadata": {},
   "source": [
    "First, we must decide how many folds to use in our K-Fold Cross Validation.\n",
    "\n",
    "Let's use 4 to maintain a good amount of variance in each testing fold."
   ]
  },
  {
   "cell_type": "code",
   "execution_count": 33,
   "metadata": {},
   "outputs": [],
   "source": [
    "n_folds = 4\n",
    "#we will store our best models here:\n",
    "best_models = {\n",
    "    \"K-Nearest Neighbors\":None,\n",
    "    \"Logistic Regression\":None,\n",
    "    \"Kernal Support Vector Machine\":None,\n",
    "    \"Gaussian Naive Bayes\":None,\n",
    "    \"Random Forest\":None,\n",
    "    \"Gradient Boosted Trees\":None\n",
    "}\n",
    "\n",
    "from sklearn.model_selection import GridSearchCV"
   ]
  },
  {
   "cell_type": "markdown",
   "metadata": {},
   "source": [
    "NOTE! Several of these models, particularly the Kernal SVM, take very long to train. If you are running this code yourself, you will either have to wait a long time, or simplify the parameter grids."
   ]
  },
  {
   "cell_type": "markdown",
   "metadata": {},
   "source": [
    "GridCV for KNNs:"
   ]
  },
  {
   "cell_type": "code",
   "execution_count": 34,
   "metadata": {},
   "outputs": [
    {
     "data": {
      "text/plain": [
       "GridSearchCV(cv=4, estimator=KNeighborsClassifier(),\n",
       "             param_grid={'n_neighbors': [1, 4, 5, 6],\n",
       "                         'p': [1, 1.25, 1.5, 1.75, 2]})"
      ]
     },
     "execution_count": 34,
     "metadata": {},
     "output_type": "execute_result"
    }
   ],
   "source": [
    "from sklearn.neighbors import KNeighborsClassifier\n",
    "\n",
    "knn = KNeighborsClassifier()\n",
    "parameters = {\n",
    "    'p':[1,1.25,1.5,1.75,2],\n",
    "    'n_neighbors':[1,4,5,6],\n",
    "}\n",
    "\n",
    "cv_neighbors = GridSearchCV(knn,parameters,cv=n_folds)\n",
    "cv_neighbors.fit(X_train_leth,y_train_leth)"
   ]
  },
  {
   "cell_type": "markdown",
   "metadata": {},
   "source": [
    "We are searching for the best combination of p and k.\n",
    "P is the distance metric. When it is equal to 1, we use the Manhattan distance to calculate distance between points (L1)\n",
    "When it is equal to 2, we use the Euclidean distance (L2). For all other values, we would use the Minkowski distance.\n",
    "\n",
    "The number of neighbors is the number of points against which the data is matched--lower results in specificity, but runs the risk of overfitting to peculiarities of the training data. At higher values, we risk underfitting, since the many points can blur distinct features of the data. "
   ]
  },
  {
   "cell_type": "code",
   "execution_count": 35,
   "metadata": {},
   "outputs": [
    {
     "name": "stdout",
     "output_type": "stream",
     "text": [
      "KNeighborsClassifier(p=1)\n"
     ]
    }
   ],
   "source": [
    "best_models[\"K-Nearest Neighbors\"]=cv_neighbors.best_estimator_\n",
    "print(cv_neighbors.best_estimator_)"
   ]
  },
  {
   "cell_type": "markdown",
   "metadata": {},
   "source": [
    "GridCV for Logistic Regression:"
   ]
  },
  {
   "cell_type": "code",
   "execution_count": 36,
   "metadata": {},
   "outputs": [
    {
     "data": {
      "text/plain": [
       "GridSearchCV(cv=4,\n",
       "             estimator=LogisticRegression(max_iter=10000, random_state=16),\n",
       "             param_grid={'C': array([1.00000000e-06, 4.28133240e-06, 1.83298071e-05, 7.84759970e-05,\n",
       "       3.35981829e-04, 1.43844989e-03, 6.15848211e-03, 2.63665090e-02,\n",
       "       1.12883789e-01, 4.83293024e-01, 2.06913808e+00, 8.85866790e+00,\n",
       "       3.79269019e+01, 1.62377674e+02, 6.95192796e+02, 2.97635144e+03,\n",
       "       1.27427499e+04, 5.45559478e+04, 2.33572147e+05, 1.00000000e+06]),\n",
       "                         'penalty': ['l1', 'l2'], 'solver': ['saga']})"
      ]
     },
     "execution_count": 36,
     "metadata": {},
     "output_type": "execute_result"
    }
   ],
   "source": [
    "from sklearn.linear_model import LogisticRegression\n",
    "\n",
    "lr = LogisticRegression(random_state=rstate, max_iter = 10000)\n",
    "parameters = { 'penalty' : ['l1', 'l2'],\n",
    "            'C' : np.logspace(-6, 6, 20),\n",
    "            'solver' : ['saga']}\n",
    "\n",
    "cv_logistc = GridSearchCV(lr, parameters,cv=n_folds)\n",
    "cv_logistc.fit(X_train_leth,y_train_leth)"
   ]
  },
  {
   "cell_type": "markdown",
   "metadata": {},
   "source": [
    "For a Logistic regression, we are working through the following parameters:\n",
    "    Penalty: this determines which normalization we use, L1 or L2\n",
    "    C: this is the (inverse) of the regularization term. At higher values, the data less regularized, and therefore runs the risk of overfitting. At lower values, there is more regularization and the coefficients are either pushed toward zero or minimized (L1 versus L2). L1 would help prune any excessive components left over after our PCA.\n",
    "    Solver: saga is faster for larger datasets."
   ]
  },
  {
   "cell_type": "code",
   "execution_count": 37,
   "metadata": {},
   "outputs": [],
   "source": [
    "best_models[\"Logistic Regression\"]=cv_logistc.best_estimator_"
   ]
  },
  {
   "cell_type": "markdown",
   "metadata": {},
   "source": [
    "GridCV for Kernel SVM:"
   ]
  },
  {
   "cell_type": "code",
   "execution_count": 38,
   "metadata": {},
   "outputs": [
    {
     "name": "stdout",
     "output_type": "stream",
     "text": [
      "Fitting 1 folds for each of 12 candidates, totalling 12 fits\n",
      "[CV] base_estimator__C=0.0001, base_estimator__kernel=linear, bootstrap=False \n"
     ]
    },
    {
     "name": "stderr",
     "output_type": "stream",
     "text": [
      "[Parallel(n_jobs=1)]: Using backend SequentialBackend with 1 concurrent workers.\n"
     ]
    },
    {
     "name": "stdout",
     "output_type": "stream",
     "text": [
      "[CV]  base_estimator__C=0.0001, base_estimator__kernel=linear, bootstrap=False, score=0.840, total=   2.3s\n",
      "[CV] base_estimator__C=0.0001, base_estimator__kernel=rbf, bootstrap=False \n"
     ]
    },
    {
     "name": "stderr",
     "output_type": "stream",
     "text": [
      "[Parallel(n_jobs=1)]: Done   1 out of   1 | elapsed:    2.2s remaining:    0.0s\n"
     ]
    },
    {
     "name": "stdout",
     "output_type": "stream",
     "text": [
      "[CV]  base_estimator__C=0.0001, base_estimator__kernel=rbf, bootstrap=False, score=0.840, total=   0.2s\n",
      "[CV] base_estimator__C=0.003981071705534973, base_estimator__kernel=linear, bootstrap=False \n",
      "[CV]  base_estimator__C=0.003981071705534973, base_estimator__kernel=linear, bootstrap=False, score=0.840, total=   0.2s"
     ]
    },
    {
     "name": "stderr",
     "output_type": "stream",
     "text": [
      "[Parallel(n_jobs=1)]: Done   2 out of   2 | elapsed:    2.4s remaining:    0.0s\n"
     ]
    },
    {
     "name": "stdout",
     "output_type": "stream",
     "text": [
      "\n",
      "[CV] base_estimator__C=0.003981071705534973, base_estimator__kernel=rbf, bootstrap=False \n",
      "[CV]  base_estimator__C=0.003981071705534973, base_estimator__kernel=rbf, bootstrap=False, score=0.840, total=   0.3s\n",
      "[CV] base_estimator__C=0.15848931924611143, base_estimator__kernel=linear, bootstrap=False \n",
      "[CV]  base_estimator__C=0.15848931924611143, base_estimator__kernel=linear, bootstrap=False, score=0.874, total=   0.2s\n",
      "[CV] base_estimator__C=0.15848931924611143, base_estimator__kernel=rbf, bootstrap=False \n",
      "[CV]  base_estimator__C=0.15848931924611143, base_estimator__kernel=rbf, bootstrap=False, score=0.840, total=   0.4s\n",
      "[CV] base_estimator__C=6.309573444801943, base_estimator__kernel=linear, bootstrap=False \n",
      "[CV]  base_estimator__C=6.309573444801943, base_estimator__kernel=linear, bootstrap=False, score=0.891, total=   0.5s\n",
      "[CV] base_estimator__C=6.309573444801943, base_estimator__kernel=rbf, bootstrap=False \n",
      "[CV]  base_estimator__C=6.309573444801943, base_estimator__kernel=rbf, bootstrap=False, score=0.998, total=   0.4s\n",
      "[CV] base_estimator__C=251.18864315095823, base_estimator__kernel=linear, bootstrap=False \n",
      "[CV]  base_estimator__C=251.18864315095823, base_estimator__kernel=linear, bootstrap=False, score=0.893, total=  10.4s\n",
      "[CV] base_estimator__C=251.18864315095823, base_estimator__kernel=rbf, bootstrap=False \n",
      "[CV]  base_estimator__C=251.18864315095823, base_estimator__kernel=rbf, bootstrap=False, score=1.000, total=   0.5s\n",
      "[CV] base_estimator__C=10000.0, base_estimator__kernel=linear, bootstrap=False \n",
      "[CV]  base_estimator__C=10000.0, base_estimator__kernel=linear, bootstrap=False, score=0.892, total= 6.5min\n",
      "[CV] base_estimator__C=10000.0, base_estimator__kernel=rbf, bootstrap=False \n",
      "[CV]  base_estimator__C=10000.0, base_estimator__kernel=rbf, bootstrap=False, score=1.000, total=   0.5s\n"
     ]
    },
    {
     "name": "stderr",
     "output_type": "stream",
     "text": [
      "[Parallel(n_jobs=1)]: Done  12 out of  12 | elapsed:  6.8min finished\n"
     ]
    },
    {
     "data": {
      "text/plain": [
       "GridSearchCV(cv=[(slice(None, None, None), slice(None, None, None))],\n",
       "             estimator=BaggingClassifier(base_estimator=SVC(random_state=16),\n",
       "                                         bootstrap=False, n_jobs=-1,\n",
       "                                         random_state=16),\n",
       "             param_grid={'base_estimator__C': array([1.00000000e-04, 3.98107171e-03, 1.58489319e-01, 6.30957344e+00,\n",
       "       2.51188643e+02, 1.00000000e+04]),\n",
       "                         'base_estimator__kernel': ['linear', 'rbf'],\n",
       "                         'bootstrap': [False]},\n",
       "             verbose=3)"
      ]
     },
     "execution_count": 38,
     "metadata": {},
     "output_type": "execute_result"
    }
   ],
   "source": [
    "from sklearn.svm import SVC\n",
    "from sklearn.ensemble import BaggingClassifier\n",
    "bsvc = BaggingClassifier(base_estimator = SVC(random_state=rstate), \n",
    "                         bootstrap= False, \n",
    "                         n_jobs=-1, random_state=rstate)#-1 = use all processors\n",
    "#use bagging to run in parallel to reduce runtimes\n",
    "param_grid = {\n",
    " 'bootstrap': [False], #resampling without replacements, so results should be the comparable\n",
    " 'base_estimator__kernel': ['linear', 'rbf'], # __ denotes svc parameters   \n",
    " 'base_estimator__C': np.logspace(-4, 4, 6),\n",
    "}\n",
    "\n",
    "\n",
    "cv_svc = GridSearchCV(bsvc,param_grid, verbose=3, cv=[(slice(None), slice(None))])\n",
    "# cross validation disabled\n",
    "cv_svc.fit(X_train_leth, y_train_leth)"
   ]
  },
  {
   "cell_type": "markdown",
   "metadata": {},
   "source": [
    "SVC has > quadratic complexity, so in order to speed up run times, we've nested the SVC inside the bagging classifier to allow more calulations in parallel.\n",
    "For SVC, we have tuned our model along parameter C, which functions the same way as the Logistic Regressor regulariztion inverse term did.\n",
    "We are also testing different kernels, which represent different data transformations to achieve optimal seperation. Due to the structure of PCA component vectors (as opposed to natural features), we tested just rbf and linear parameters. "
   ]
  },
  {
   "cell_type": "code",
   "execution_count": 39,
   "metadata": {},
   "outputs": [],
   "source": [
    "best_models[\"Kernal Support Vector Machine\"]=cv_svc.best_estimator_"
   ]
  },
  {
   "cell_type": "markdown",
   "metadata": {},
   "source": [
    "GridCV for Naive Bayes:"
   ]
  },
  {
   "cell_type": "code",
   "execution_count": 40,
   "metadata": {},
   "outputs": [
    {
     "data": {
      "text/plain": [
       "GridSearchCV(cv=RepeatedStratifiedKFold(n_repeats=4, n_splits=4, random_state=16),\n",
       "             estimator=GaussianNB(),\n",
       "             param_grid={'var_smoothing': array([1.00000000e-15, 3.85662042e-15, 1.48735211e-14, 5.73615251e-14,\n",
       "       2.21221629e-13, 8.53167852e-13, 3.29034456e-12, 1.26896100e-11,\n",
       "       4.89390092e-11, 1.88739182e-10, 7.27895384e-10, 2.80721620e-09,\n",
       "       1.08263673e-08, 4.17531894e-08, 1.61026203e-07, 6.21016942e-07,\n",
       "       2.39502662e-06, 9.23670857e-06, 3.56224789e-05, 1.37382380e-04,\n",
       "       5.29831691e-04, 2.04335972e-03, 7.88046282e-03, 3.03919538e-02,\n",
       "       1.17210230e-01, 4.52035366e-01, 1.74332882e+00, 6.72335754e+00,\n",
       "       2.59294380e+01, 1.00000000e+02])})"
      ]
     },
     "execution_count": 40,
     "metadata": {},
     "output_type": "execute_result"
    }
   ],
   "source": [
    "from sklearn.naive_bayes import GaussianNB\n",
    "from sklearn.model_selection import RepeatedStratifiedKFold\n",
    "\n",
    "gaus = GaussianNB()\n",
    "parameters = {\n",
    "    'var_smoothing':np.logspace(-15, 2, 30)\n",
    "}\n",
    "\n",
    "cv_gaus = GridSearchCV(gaus,parameters,cv = RepeatedStratifiedKFold(n_splits=4,  n_repeats=4, random_state=rstate))\n",
    "cv_gaus.fit(X_train_leth,y_train_leth)"
   ]
  },
  {
   "cell_type": "code",
   "execution_count": 41,
   "metadata": {},
   "outputs": [],
   "source": [
    "best_models[\"Gaussian Naive Bayes\"]=cv_gaus.best_estimator_"
   ]
  },
  {
   "cell_type": "markdown",
   "metadata": {},
   "source": [
    "For Naive Bayes, we used a repeated stratified fold in order to retain the distribution of the original data in the subsequent splits. This is because NB is dependent on the proportions."
   ]
  },
  {
   "cell_type": "markdown",
   "metadata": {},
   "source": [
    "GridCV for Random Forest:"
   ]
  },
  {
   "cell_type": "code",
   "execution_count": 42,
   "metadata": {},
   "outputs": [
    {
     "data": {
      "text/plain": [
       "GridSearchCV(cv=4, estimator=RandomForestClassifier(random_state=16),\n",
       "             param_grid={'max_depth': [4, None], 'max_features': ['auto', None],\n",
       "                         'max_leaf_nodes': [16, None],\n",
       "                         'min_samples_split': [2, 8],\n",
       "                         'n_estimators': [10, 50, 100]})"
      ]
     },
     "execution_count": 42,
     "metadata": {},
     "output_type": "execute_result"
    }
   ],
   "source": [
    "from sklearn.ensemble import RandomForestClassifier\n",
    "\n",
    "forest = RandomForestClassifier(random_state=rstate)\n",
    "parameters = {\n",
    "    'n_estimators':[10,50,100],\n",
    "    'max_depth':[4,None],\n",
    "    'min_samples_split':[2,8],\n",
    "    'max_leaf_nodes':[16,None],\n",
    "    'max_features': [\"auto\", None]\n",
    "}\n",
    "\n",
    "cv_forest = GridSearchCV(forest,parameters,cv=n_folds)\n",
    "cv_forest.fit(X_train_leth,y_train_leth)"
   ]
  },
  {
   "cell_type": "code",
   "execution_count": 43,
   "metadata": {},
   "outputs": [],
   "source": [
    "best_models[\"Random Forest\"]=cv_forest.best_estimator_"
   ]
  },
  {
   "cell_type": "markdown",
   "metadata": {},
   "source": [
    "We can actually test our optimal random forest for accuracy by looking at the relative variable weights. From the structure of PCA, we know that each component is ordered in decreasing variance explained, so ideally, our random forest might vaguely reflect this, and resemble our percent variance PCA plot. Of course, a component having high variance does not guarantee that it will be useful in predictions, so this is not any exact science."
   ]
  },
  {
   "cell_type": "code",
   "execution_count": 44,
   "metadata": {},
   "outputs": [
    {
     "data": {
      "image/png": "[encoded data removed]",
      "text/plain": [
       "<Figure size 432x288 with 1 Axes>"
      ]
     },
     "metadata": {
      "needs_background": "light"
     },
     "output_type": "display_data"
    }
   ],
   "source": [
    "plt.plot(cv_forest.best_estimator_.feature_importances_)#blue\n",
    "plt.plot(pca.explained_variance_ratio_); #orange"
   ]
  },
  {
   "cell_type": "markdown",
   "metadata": {},
   "source": [
    "GridCV for Gradient Boosted Trees:"
   ]
  },
  {
   "cell_type": "code",
   "execution_count": 45,
   "metadata": {},
   "outputs": [
    {
     "data": {
      "text/plain": [
       "GridSearchCV(cv=4, estimator=GradientBoostingClassifier(random_state=16),\n",
       "             n_jobs=1,\n",
       "             param_grid={'learning_rate': [2, 1, 0.5, 0.25, 0.1, 0.05, 0.01,\n",
       "                                           0.001],\n",
       "                         'n_estimators': [1, 2, 4, 8, 16, 32, 64, 100, 200]})"
      ]
     },
     "execution_count": 45,
     "metadata": {},
     "output_type": "execute_result"
    }
   ],
   "source": [
    "from sklearn.ensemble import GradientBoostingClassifier\n",
    "\n",
    "boost = GradientBoostingClassifier(random_state=rstate)\n",
    "parameters = {\n",
    "    'n_estimators' : [1, 2, 4, 8, 16, 32, 64, 100, 200],\n",
    "    'learning_rate': [2, 1, 0.5, 0.25, 0.1, 0.05, 0.01,.001],\n",
    "}\n",
    "\n",
    "cv_boost = GridSearchCV(boost,parameters,cv=n_folds,verbose=0,n_jobs=1) #n_jobs = -1 means use all processors\n",
    "cv_boost.fit(X_train_leth,y_train_leth)"
   ]
  },
  {
   "cell_type": "code",
   "execution_count": 46,
   "metadata": {},
   "outputs": [],
   "source": [
    "best_models[\"Gradient Boosted Trees\"]=cv_boost.best_estimator_"
   ]
  },
  {
   "cell_type": "code",
   "execution_count": 47,
   "metadata": {},
   "outputs": [
    {
     "name": "stdout",
     "output_type": "stream",
     "text": [
      "K-Nearest Neighbors\n",
      "     KNeighborsClassifier(p=1)\n",
      "Logistic Regression\n",
      "     LogisticRegression(C=2.06913808111479, max_iter=10000, random_state=16,\n",
      "                   solver='saga')\n",
      "Kernal Support Vector Machine\n",
      "     BaggingClassifier(base_estimator=SVC(C=251.18864315095823, random_state=16),\n",
      "                  bootstrap=False, n_jobs=-1, random_state=16)\n",
      "Gaussian Naive Bayes\n",
      "     GaussianNB(var_smoothing=0.11721022975334745)\n",
      "Random Forest\n",
      "     RandomForestClassifier(n_estimators=50, random_state=16)\n",
      "Gradient Boosted Trees\n",
      "     GradientBoostingClassifier(learning_rate=0.05, random_state=16)\n"
     ]
    }
   ],
   "source": [
    "for title, model in best_models.items():\n",
    "    print(title)\n",
    "    print(\"    \", model)"
   ]
  },
  {
   "cell_type": "markdown",
   "metadata": {},
   "source": [
    "We have now evaluated all of our desired model types using GridSearchCV.\n",
    "Now, let's assess the best performing model from each grid search"
   ]
  },
  {
   "cell_type": "code",
   "execution_count": 48,
   "metadata": {},
   "outputs": [],
   "source": [
    "from time import time\n",
    "from sklearn.metrics import confusion_matrix, accuracy_score, recall_score, precision_score\n",
    "from sklearn.metrics import plot_confusion_matrix\n",
    "def assess_model(title,model,x,y):\n",
    "    print(\"Assessing {}:\".format(title))\n",
    "    start = time()\n",
    "    predictions = model.predict(x)\n",
    "    end = time()\n",
    "    \n",
    "    conf_matrix = confusion_matrix(y,predictions)\n",
    "    accuracy = round(accuracy_score(y,predictions),4)\n",
    "    recall = round(recall_score(y,predictions),4)\n",
    "    precision = round(precision_score(y,predictions),4)\n",
    "    duration = round((end - start)*1000,3)\n",
    "    \n",
    "    print(\"    Accuracy : {:-8}\".format(accuracy))\n",
    "    print(\"    Recall : {:-10}\".format(recall))\n",
    "    print(\"    Precision : {:-7}\".format(precision))\n",
    "    print(\"    Time : {:-11}ms\".format(duration))\n",
    "    \n",
    "    trueNeg, falsePos, falseNeg, truePos = conf_matrix.ravel()\n",
    "# Plot non-normalized and normalized confusion matrix\n",
    "    titles_options = [(\"Confusion matrix, without normalization\", None),\n",
    "                  (\"Normalized confusion matrix\", 'true')]\n",
    "    for title, normalize in titles_options:\n",
    "        disp = plot_confusion_matrix(model, x, y,\n",
    "                                     #display_labels=class_names,\n",
    "                                     cmap=plt.cm.Blues,\n",
    "                                     normalize=normalize)\n",
    "        disp.ax_.set_title(title)\n",
    "        print(title)\n",
    "        print(disp.confusion_matrix)\n",
    "    plt.show()\n",
    "    print(\"\\tTrue Negative: \",trueNeg,\"\\n\\tFalse Positive: \", falsePos,\n",
    "          \"\\n\\tFalse Negative: \",falseNeg,\"\\n\\tTrue Positive: \", truePos)\n",
    "    print()\n"
   ]
  },
  {
   "cell_type": "code",
   "execution_count": 49,
   "metadata": {},
   "outputs": [
    {
     "name": "stdout",
     "output_type": "stream",
     "text": [
      "Assessing K-Nearest Neighbors:\n",
      "    Accuracy :     0.85\n",
      "    Recall :     0.1296\n",
      "    Precision :  0.6364\n",
      "    Time :      55.847ms\n",
      "Confusion matrix, without normalization\n",
      "[[282   4]\n",
      " [ 47   7]]\n",
      "Normalized confusion matrix\n",
      "[[0.98601399 0.01398601]\n",
      " [0.87037037 0.12962963]]\n"
     ]
    },
    {
     "data": {
      "image/png": "[encoded data removed]",
      "text/plain": [
       "<Figure size 432x288 with 2 Axes>"
      ]
     },
     "metadata": {
      "needs_background": "light"
     },
     "output_type": "display_data"
    },
    {
     "data": {
      "image/png": "[encoded data removed]",
      "text/plain": [
       "<Figure size 432x288 with 2 Axes>"
      ]
     },
     "metadata": {
      "needs_background": "light"
     },
     "output_type": "display_data"
    },
    {
     "name": "stdout",
     "output_type": "stream",
     "text": [
      "\tTrue Negative:  282 \n",
      "\tFalse Positive:  4 \n",
      "\tFalse Negative:  47 \n",
      "\tTrue Positive:  7\n",
      "\n",
      "Assessing Logistic Regression:\n",
      "    Accuracy :   0.8765\n",
      "    Recall :     0.4444\n",
      "    Precision :  0.6667\n",
      "    Time :       0.985ms\n",
      "Confusion matrix, without normalization\n",
      "[[274  12]\n",
      " [ 30  24]]\n",
      "Normalized confusion matrix\n",
      "[[0.95804196 0.04195804]\n",
      " [0.55555556 0.44444444]]\n"
     ]
    },
    {
     "data": {
      "image/png": "[encoded data removed]",
      "text/plain": [
       "<Figure size 432x288 with 2 Axes>"
      ]
     },
     "metadata": {
      "needs_background": "light"
     },
     "output_type": "display_data"
    },
    {
     "data": {
      "image/png": "[encoded data removed]",
      "text/plain": [
       "<Figure size 432x288 with 2 Axes>"
      ]
     },
     "metadata": {
      "needs_background": "light"
     },
     "output_type": "display_data"
    },
    {
     "name": "stdout",
     "output_type": "stream",
     "text": [
      "\tTrue Negative:  274 \n",
      "\tFalse Positive:  12 \n",
      "\tFalse Negative:  30 \n",
      "\tTrue Positive:  24\n",
      "\n",
      "Assessing Kernal Support Vector Machine:\n",
      "    Accuracy :   0.8588\n",
      "    Recall :      0.463\n",
      "    Precision :  0.5682\n",
      "    Time :    2463.416ms\n",
      "Confusion matrix, without normalization\n",
      "[[267  19]\n",
      " [ 29  25]]\n",
      "Normalized confusion matrix\n",
      "[[0.93356643 0.06643357]\n",
      " [0.53703704 0.46296296]]\n"
     ]
    },
    {
     "data": {
      "image/png": "[encoded data removed]",
      "text/plain": [
       "<Figure size 432x288 with 2 Axes>"
      ]
     },
     "metadata": {
      "needs_background": "light"
     },
     "output_type": "display_data"
    },
    {
     "data": {
      "image/png": "[encoded data removed]",
      "text/plain": [
       "<Figure size 432x288 with 2 Axes>"
      ]
     },
     "metadata": {
      "needs_background": "light"
     },
     "output_type": "display_data"
    },
    {
     "name": "stdout",
     "output_type": "stream",
     "text": [
      "\tTrue Negative:  267 \n",
      "\tFalse Positive:  19 \n",
      "\tFalse Negative:  29 \n",
      "\tTrue Positive:  25\n",
      "\n",
      "Assessing Gaussian Naive Bayes:\n",
      "    Accuracy :   0.8529\n",
      "    Recall :     0.1296\n",
      "    Precision :     0.7\n",
      "    Time :       1.944ms\n",
      "Confusion matrix, without normalization\n",
      "[[283   3]\n",
      " [ 47   7]]\n",
      "Normalized confusion matrix\n",
      "[[0.98951049 0.01048951]\n",
      " [0.87037037 0.12962963]]\n"
     ]
    },
    {
     "data": {
      "image/png": "[encoded data removed]",
      "text/plain": [
       "<Figure size 432x288 with 2 Axes>"
      ]
     },
     "metadata": {
      "needs_background": "light"
     },
     "output_type": "display_data"
    },
    {
     "data": {
      "image/png": "[encoded data removed]",
      "text/plain": [
       "<Figure size 432x288 with 2 Axes>"
      ]
     },
     "metadata": {
      "needs_background": "light"
     },
     "output_type": "display_data"
    },
    {
     "name": "stdout",
     "output_type": "stream",
     "text": [
      "\tTrue Negative:  283 \n",
      "\tFalse Positive:  3 \n",
      "\tFalse Negative:  47 \n",
      "\tTrue Positive:  7\n",
      "\n",
      "Assessing Random Forest:\n",
      "    Accuracy :   0.8559\n",
      "    Recall :     0.1667\n",
      "    Precision :  0.6923\n",
      "    Time :       9.966ms\n",
      "Confusion matrix, without normalization\n",
      "[[282   4]\n",
      " [ 45   9]]\n",
      "Normalized confusion matrix\n",
      "[[0.98601399 0.01398601]\n",
      " [0.83333333 0.16666667]]\n"
     ]
    },
    {
     "data": {
      "image/png": "[encoded data removed]",
      "text/plain": [
       "<Figure size 432x288 with 2 Axes>"
      ]
     },
     "metadata": {
      "needs_background": "light"
     },
     "output_type": "display_data"
    },
    {
     "data": {
      "image/png": "[encoded data removed]",
      "text/plain": [
       "<Figure size 432x288 with 2 Axes>"
      ]
     },
     "metadata": {
      "needs_background": "light"
     },
     "output_type": "display_data"
    },
    {
     "name": "stdout",
     "output_type": "stream",
     "text": [
      "\tTrue Negative:  282 \n",
      "\tFalse Positive:  4 \n",
      "\tFalse Negative:  45 \n",
      "\tTrue Positive:  9\n",
      "\n",
      "Assessing Gradient Boosted Trees:\n",
      "    Accuracy :   0.8559\n",
      "    Recall :     0.1852\n",
      "    Precision :  0.6667\n",
      "    Time :       2.989ms\n",
      "Confusion matrix, without normalization\n",
      "[[281   5]\n",
      " [ 44  10]]\n",
      "Normalized confusion matrix\n",
      "[[0.98251748 0.01748252]\n",
      " [0.81481481 0.18518519]]\n"
     ]
    },
    {
     "data": {
      "image/png": "[encoded data removed]",
      "text/plain": [
       "<Figure size 432x288 with 2 Axes>"
      ]
     },
     "metadata": {
      "needs_background": "light"
     },
     "output_type": "display_data"
    },
    {
     "data": {
      "image/png": "[encoded data removed]",
      "text/plain": [
       "<Figure size 432x288 with 2 Axes>"
      ]
     },
     "metadata": {
      "needs_background": "light"
     },
     "output_type": "display_data"
    },
    {
     "name": "stdout",
     "output_type": "stream",
     "text": [
      "\tTrue Negative:  281 \n",
      "\tFalse Positive:  5 \n",
      "\tFalse Negative:  44 \n",
      "\tTrue Positive:  10\n",
      "\n"
     ]
    }
   ],
   "source": [
    "for title, model in best_models.items():\n",
    "    assess_model(title,model,X_test_leth,y_test_leth)"
   ]
  },
  {
   "cell_type": "markdown",
   "metadata": {},
   "source": [
    "Analysis:\n",
    "\n",
    "For this, as in most medical data sets, the implications of a false positive involve falsely identifying a patient as doomed to pass away. This has consequences not only for the mental health of the patient, but also on the urgency of care provided by the medical professionals. Therefore, it is extremely worthwhile to minimize false positives.\n",
    "\n",
    "Contrarily, the implications of a false negative involve assuming a patient will be alright, when they in fact are about to die. This has dire consequences for the physical health of the patient. Therefore, it is extremely worthwhile to minimize false negatives.\n",
    "\n",
    "What we are looking for, then, is the model that does the best overall.\n",
    "\n",
    "All Models, ranked are:\n",
    "\n",
    "By Precision:\n",
    "\n",
    "1. Gaussian Naive Bayes 0.7\n",
    "\n",
    "2. Random Forest 0.69\n",
    "\n",
    "3. Logistic Regression 0.66 (TIE)\n",
    "\n",
    "3. Gradient Boosted Trees 0.66 (TIE)\n",
    "\n",
    "5. K-Nearest Neighbors 0.63\n",
    "\n",
    "6. Kernel Support Vector Machine 0.56\n",
    "\n",
    "\n",
    "\n",
    "By Recall:\n",
    "\n",
    "1. Kernel Support Vector Machine 0.46\n",
    "\n",
    "2. Logistic Regression 0.44\n",
    "\n",
    "3. Gradient Boosted Trees 0.1852\n",
    "\n",
    "4. Random Forest 0.16\n",
    "\n",
    "5. Gaussian Naive Bayes 0.12 (TIE)\n",
    "\n",
    "5. K-Nearest Neighbors 0.12 (TIE)\n",
    "\n",
    "\n",
    "\n",
    "By Accuracy:\n",
    "\n",
    "1. Logistic Regression 0.87\n",
    "\n",
    "2. Kernel Support Vector Machine 0.858\n",
    "\n",
    "3. Random Forest 0.855 (TIE)\n",
    "\n",
    "3. Gradient Boosted Trees 0.855 (TIE)\n",
    "\n",
    "5. Gaussian Naive Bayes 0.852\n",
    "\n",
    "6. K-Nearest Neighbors 0.85\n",
    "\n",
    "\n",
    "By Prediction time:\n",
    "\n",
    "1. Logistic Regression 0.985ms\n",
    "\n",
    "2. Gaussian Naive Bayes 1.944ms\n",
    "\n",
    "3. Gradient Boosted Trees 2.989ms\n",
    "\n",
    "4. Random Forest  9.966ms\n",
    "\n",
    "5. K-Nearest Neighbors 55.847ms\n",
    "\n",
    "6. Kernel Support Vector Machine 2463.416ms\n",
    "\n",
    "\n",
    "Logistic Regression is the best overall model, coming in 1st for accuracy, 2nd for recall, and third for precision. \n",
    "\n",
    "Naive Bayes is the best model for precision, 0.01 points ahead of random forest, and 0.04 points ahead of logistic regression and gradient boosted trees. If precision was desired above all else, Naive Bayes would be the best choice.\n",
    "\n",
    "Kernal SVM had excellent recall, but the worst precision. If recall was valued over precision (for instance, if there are only a few patients, and it was desired to know if any patient was in great danger of death), kernal SVM would be a good choice.\n",
    "\n",
    "Overall, I think logistic regression is the best choice due to its generally high stats, but use of a combination of models could be beneficial (either seperate, and then compared, or as an ensemble). \n",
    "\n",
    "For some more analysis, see the written report."
   ]
  },
  {
   "cell_type": "markdown",
   "metadata": {},
   "source": [
    "Thank you for reading our final project file."
   ]
  },
  {
   "cell_type": "code",
   "execution_count": null,
   "metadata": {},
   "outputs": [],
   "source": []
  }
 ],
 "metadata": {
  "kernelspec": {
   "display_name": "Python 3",
   "language": "python",
   "name": "python3"
  },
  "language_info": {
   "codemirror_mode": {
    "name": "ipython",
    "version": 3
   },
   "file_extension": ".py",
   "mimetype": "text/x-python",
   "name": "python",
   "nbconvert_exporter": "python",
   "pygments_lexer": "ipython3",
   "version": "3.8.5"
  }
 },
 "nbformat": 4,
 "nbformat_minor": 5
}
